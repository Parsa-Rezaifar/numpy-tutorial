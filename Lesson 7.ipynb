{
 "cells": [
  {
   "cell_type": "markdown",
   "id": "a86cae88-6826-489e-b85d-2e687bd1e36a",
   "metadata": {},
   "source": [
    "# Array(part 2)"
   ]
  },
  {
   "cell_type": "code",
   "execution_count": 1,
   "id": "cf0a1c3a-a9f9-4c5b-89e3-97359eb69199",
   "metadata": {},
   "outputs": [],
   "source": [
    "import numpy as np"
   ]
  },
  {
   "cell_type": "markdown",
   "id": "7edcfd9b-d74c-4c09-9a21-904ce6e4b6dd",
   "metadata": {},
   "source": [
    "### .array() arguments"
   ]
  },
  {
   "cell_type": "code",
   "execution_count": 2,
   "id": "f446aefd-ef5f-4fba-b8fa-5961e7e3f1e4",
   "metadata": {},
   "outputs": [],
   "source": [
    "# agruments :(default values) > will be in most methodes to create arrays\n",
    "# 1- cpoy=True \n",
    "# 2- order= 'K'\n",
    "# 3- subok=True"
   ]
  },
  {
   "cell_type": "code",
   "execution_count": 7,
   "id": "17ea4426-8006-4790-b123-9978dbd632e7",
   "metadata": {},
   "outputs": [
    {
     "data": {
      "text/plain": [
       "array([1, 2, 3])"
      ]
     },
     "execution_count": 7,
     "metadata": {},
     "output_type": "execute_result"
    }
   ],
   "source": [
    "# copy > default = True > if for creating an array we use another array\n",
    "# either return previous array or create a new array\n",
    "array_one = np.array([1,2,3]) # > # np.array([#python list]) > convert python list to array\n",
    "array_one"
   ]
  },
  {
   "cell_type": "code",
   "execution_count": 8,
   "id": "37452b78-099e-469d-8deb-ee48ff821e74",
   "metadata": {},
   "outputs": [
    {
     "data": {
      "text/plain": [
       "array([1, 2, 3])"
      ]
     },
     "execution_count": 8,
     "metadata": {},
     "output_type": "execute_result"
    }
   ],
   "source": [
    "# create another array from previous array \n",
    "# every thing will be ok till we change sth in second array\n",
    "array_two = np.array(array_one)\n",
    "array_two"
   ]
  },
  {
   "cell_type": "code",
   "execution_count": 9,
   "id": "55d4e35a-d46d-4e4f-a913-8230da42e8ec",
   "metadata": {},
   "outputs": [],
   "source": [
    "array_two[0] = 22"
   ]
  },
  {
   "cell_type": "code",
   "execution_count": 13,
   "id": "d63644e0-d9b5-4531-8a51-30ce47e8daf6",
   "metadata": {},
   "outputs": [
    {
     "data": {
      "text/plain": [
       "array([22,  2,  3])"
      ]
     },
     "execution_count": 13,
     "metadata": {},
     "output_type": "execute_result"
    }
   ],
   "source": [
    "# changed at index 0\n",
    "array_two"
   ]
  },
  {
   "cell_type": "code",
   "execution_count": 15,
   "id": "1155b3a6-89dd-426f-bf47-38b3069a3f09",
   "metadata": {},
   "outputs": [
    {
     "data": {
      "text/plain": [
       "array([1, 2, 3])"
      ]
     },
     "execution_count": 15,
     "metadata": {},
     "output_type": "execute_result"
    }
   ],
   "source": [
    "# no change > because by default > copy = True\n",
    "# take a copy from first array and create a new array > dont use first array\n",
    "# if False > will use first array\n",
    "array_one"
   ]
  },
  {
   "cell_type": "code",
   "execution_count": 20,
   "id": "bb698d14-c1b4-4041-b6e1-5e91575a3aba",
   "metadata": {},
   "outputs": [
    {
     "name": "stdout",
     "output_type": "stream",
     "text": [
      "[33  2  3]\n",
      "[33  2  3]\n"
     ]
    }
   ],
   "source": [
    "array_three = np.array([1,2,3])\n",
    "# chanege value of copy in sencond array not first one\n",
    "# False > no need to take copy from first array and refer the second array to \n",
    "# firt array\n",
    "# copy > creating array from another array > return first array or \n",
    "# create a new one\n",
    "array_four = np.array(array_three,copy=False)\n",
    "array_four[0] = 33\n",
    "print(array_three)\n",
    "print(array_four)"
   ]
  },
  {
   "cell_type": "code",
   "execution_count": 37,
   "id": "5f0e7579-af3b-4481-a538-fcf1a29007bf",
   "metadata": {},
   "outputs": [
    {
     "name": "stdout",
     "output_type": "stream",
     "text": [
      "[1 2 3] <class 'numpy.ma.core.MaskedArray'>\n",
      "[1 2 3] <class 'numpy.ndarray'>\n"
     ]
    }
   ],
   "source": [
    "# subok > default > Flase > dont use last class\n",
    "# True > use the class > in second array not forst one\n",
    "# for creating an array use another array > use the class of first array or\n",
    "# return a new ndarray\n",
    "# masked_array([python_list]) > convert python list to array\n",
    "# you can incease the dimentions(optional)\n",
    "import numpy.ma as ma\n",
    "masked_array = ma.masked_array([1,2,3]) # type is masked array\n",
    "array = np.array(masked_array) # type is normal array\n",
    "print(masked_array,type(masked_array))\n",
    "print(array,type(array))"
   ]
  },
  {
   "cell_type": "code",
   "execution_count": 40,
   "id": "e96cac74-257d-4526-854d-d056d2b993e9",
   "metadata": {},
   "outputs": [
    {
     "data": {
      "text/plain": [
       "masked_array(data=[1, 2, 3],\n",
       "             mask=False,\n",
       "       fill_value=999999)"
      ]
     },
     "execution_count": 40,
     "metadata": {},
     "output_type": "execute_result"
    }
   ],
   "source": [
    "masked_array"
   ]
  },
  {
   "cell_type": "code",
   "execution_count": 41,
   "id": "8fc6b5fa-6bda-4a50-a2ff-7db00e55a48d",
   "metadata": {},
   "outputs": [
    {
     "data": {
      "text/plain": [
       "array([1, 2, 3])"
      ]
     },
     "execution_count": 41,
     "metadata": {},
     "output_type": "execute_result"
    }
   ],
   "source": [
    "array"
   ]
  },
  {
   "cell_type": "code",
   "execution_count": 39,
   "id": "f78ee00b-5857-4894-8809-e47f40edc63a",
   "metadata": {},
   "outputs": [
    {
     "name": "stdout",
     "output_type": "stream",
     "text": [
      "<class 'numpy.ma.core.MaskedArray'>\n",
      "[1 2 3]\n"
     ]
    }
   ],
   "source": [
    "array_ = np.array(masked_array,subok=True)\n",
    "print(type(array_))\n",
    "print(array_)"
   ]
  },
  {
   "cell_type": "code",
   "execution_count": 42,
   "id": "7b54b6c4-0824-4cf7-892f-b4df1938b3df",
   "metadata": {},
   "outputs": [
    {
     "data": {
      "text/plain": [
       "masked_array(data=[1, 2, 3],\n",
       "             mask=False,\n",
       "       fill_value=999999)"
      ]
     },
     "execution_count": 42,
     "metadata": {},
     "output_type": "execute_result"
    }
   ],
   "source": [
    "array_"
   ]
  },
  {
   "cell_type": "code",
   "execution_count": 48,
   "id": "dc7bff57-14f2-4894-97d0-d793d0a45826",
   "metadata": {},
   "outputs": [
    {
     "name": "stdout",
     "output_type": "stream",
     "text": [
      "1\n",
      "4\n",
      "[[[[1 2 3]]]]\n"
     ]
    }
   ],
   "source": [
    "# ndmin = 0 > spicify the minimum dimention\n",
    "array_five = np.array([1,2,3])\n",
    "print(array_five.ndim)\n",
    "array_five_ = np.array([1,2,3],ndmin=4) # the minimum d to have is ndmin > if\n",
    "# the array hasnt > will automatically chanage the d to minimum value\n",
    "print(array_five_.ndim)\n",
    "print(array_five_)"
   ]
  },
  {
   "cell_type": "code",
   "execution_count": 72,
   "id": "c6da354d-eec2-44ad-b145-8bad576aca8e",
   "metadata": {},
   "outputs": [
    {
     "name": "stdout",
     "output_type": "stream",
     "text": [
      "[[1 2 3]\n",
      " [4 5 6]]\n",
      "4\n",
      "(12, 4)\n"
     ]
    }
   ],
   "source": [
    "# order > four vaues > 'K'(default) , 'A' , 'C' , 'F'\n",
    "# 'C' & 'F' > important\n",
    "# usng numpy > two lang to operate > C and Fortran > How to save data in mem is\n",
    "# different in these two lang\n",
    "# 2d array\n",
    "array_six = np.array( \n",
    "    [\n",
    "        [1,2,3],\n",
    "        [4,5,6]\n",
    "    ]\n",
    ")\n",
    "print(array_six)\n",
    "# 2d array cant be stored in mem > memory is linear space > and convert 2d to one line\n",
    "# How ? store row by row(row major) / store colunm by colunm(column major)\n",
    "# C > (row major)\n",
    "# Fortran > (column major)\n",
    "# depend on : use numpy along side which lang\n",
    "# Normal > store like C > (row major) > 'C'\n",
    "# return nothing > means it was ok but the storing format in mem changed\n",
    "# How to calculated(size) is changed\n",
    "# store memory which stored in ram : > return two numbers(array was two d) >\n",
    "# count of numbers that will be showned = number of dimention\n",
    "# x > number of items * .itemsize > in 'C' > row major > in each raw 3 item\n",
    "# each item is 4 byte > x = > 3 * 4 = 12\n",
    "# y > columns will store single > each col has one item and each item is 4 byte\n",
    "# y > 1 * 4 = 4\n",
    "# (x(row),y(col))\n",
    "# 'C' > each row use x bytes\n",
    "# 'C' > each col use y bytes\n",
    "print(array_six.itemsize) # the size which each item(number) will occupy in memory\n",
    "# in byte\n",
    "print(array_six.strides)"
   ]
  },
  {
   "cell_type": "code",
   "execution_count": 74,
   "id": "1482d65d-accd-4fba-a42c-94aa6fe79e5f",
   "metadata": {},
   "outputs": [
    {
     "name": "stdout",
     "output_type": "stream",
     "text": [
      "(4, 8)\n"
     ]
    }
   ],
   "source": [
    "# 2d array\n",
    "array_six_ = np.array([\n",
    "        [1,2,3],\n",
    "        [4,5,6]\n",
    "    ],order='F')\n",
    "\n",
    "# 'F' > column major > each col has 2 items and each item is 4 byte > y = 2 * 4 = 8\n",
    "# each row has 1 item and each item is 4 byte > x = 1 * 4 = 4\n",
    "# 'F' > each row use x bytes\n",
    "# 'F' > each col use y bytes\n",
    "print(array_six_.strides)"
   ]
  },
  {
   "cell_type": "code",
   "execution_count": 75,
   "id": "12d52bae-eb3b-4e0d-aa84-eda1591b8d93",
   "metadata": {},
   "outputs": [],
   "source": [
    "# if we only work with python no matter which order we use\n",
    "# use default\n",
    "# 'K' > the program itself will understand whcih storing mthof to use > between 'F' and 'C'\n",
    "# the more is similar to each one , use thar one\n",
    "# 'A' > if use 'F' is 'F' is not enter > use 'C'"
   ]
  }
 ],
 "metadata": {
  "kernelspec": {
   "display_name": "Python 3 (ipykernel)",
   "language": "python",
   "name": "python3"
  },
  "language_info": {
   "codemirror_mode": {
    "name": "ipython",
    "version": 3
   },
   "file_extension": ".py",
   "mimetype": "text/x-python",
   "name": "python",
   "nbconvert_exporter": "python",
   "pygments_lexer": "ipython3",
   "version": "3.13.7"
  }
 },
 "nbformat": 4,
 "nbformat_minor": 5
}
