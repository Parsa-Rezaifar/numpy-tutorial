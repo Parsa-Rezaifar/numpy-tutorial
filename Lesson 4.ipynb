{
 "cells": [
  {
   "cell_type": "markdown",
   "id": "dbe2f66b-7f0d-4cd0-9db8-f8d47477c786",
   "metadata": {},
   "source": [
    "# Broadcasting"
   ]
  },
  {
   "cell_type": "code",
   "execution_count": 1,
   "id": "ec718692-ccf2-4618-bf49-ca4d7f6ab22c",
   "metadata": {},
   "outputs": [],
   "source": [
    "import numpy as np"
   ]
  },
  {
   "cell_type": "code",
   "execution_count": 4,
   "id": "226d2129-5027-4784-a2a9-ce05df339968",
   "metadata": {},
   "outputs": [],
   "source": [
    "# Logical and mathematical operations on arrays in numpy\n",
    "array_one = np.array(\n",
    "    [\n",
    "        [1,2,3]\n",
    "    ]\n",
    ")\n",
    "array_two = np.array(\n",
    "    [\n",
    "        [4,5,6]\n",
    "    ]\n",
    ")"
   ]
  },
  {
   "cell_type": "code",
   "execution_count": 8,
   "id": "2ab32739-a3f2-400a-9233-df1a3667cfa0",
   "metadata": {},
   "outputs": [
    {
     "data": {
      "text/plain": [
       "array([[5, 7, 9]])"
      ]
     },
     "execution_count": 8,
     "metadata": {},
     "output_type": "execute_result"
    }
   ],
   "source": [
    "# plus their elements [[1+4,2+5,3+6]] >> element wise > work on elements not the\n",
    "# arrays themself\n",
    "array_one + array_two"
   ]
  },
  {
   "cell_type": "code",
   "execution_count": 13,
   "id": "63159deb-cdf8-428c-9818-5d3f12b73553",
   "metadata": {},
   "outputs": [
    {
     "name": "stdout",
     "output_type": "stream",
     "text": [
      "[[2 3 4]]\n",
      "[[0 1 2]]\n",
      "[[-3 -3 -3]]\n"
     ]
    }
   ],
   "source": [
    "# on all elements\n",
    "print(array_one + 1)\n",
    "print(array_one -1)\n",
    "print(array_one - array_two)"
   ]
  },
  {
   "cell_type": "code",
   "execution_count": 16,
   "id": "c8a18ea0-df32-4741-bfe7-140517b9d85f",
   "metadata": {},
   "outputs": [
    {
     "data": {
      "text/plain": [
       "array([[False, False, False]])"
      ]
     },
     "execution_count": 16,
     "metadata": {},
     "output_type": "execute_result"
    }
   ],
   "source": [
    "# comapre > element wise > see all elements > 1 == 4 > False , 2==5 > False , ...\n",
    "array_one == array_two"
   ]
  },
  {
   "cell_type": "code",
   "execution_count": 20,
   "id": "70b78162-3d68-4cfe-be50-52c8c6aad67b",
   "metadata": {},
   "outputs": [
    {
     "data": {
      "text/plain": [
       "False"
      ]
     },
     "execution_count": 20,
     "metadata": {},
     "output_type": "execute_result"
    }
   ],
   "source": [
    "# work on array > not elements\n",
    "# see to array are qual or not > (a,b) > compare a with b\n",
    "np.array_equal(array_one,array_two)"
   ]
  },
  {
   "cell_type": "code",
   "execution_count": 19,
   "id": "0059eac4-1efd-4822-8779-daf01f85c1e1",
   "metadata": {},
   "outputs": [
    {
     "data": {
      "text/plain": [
       "True"
      ]
     },
     "execution_count": 19,
     "metadata": {},
     "output_type": "execute_result"
    }
   ],
   "source": [
    "# one array compare to itself > True\n",
    "np.array_equal(array_one,array_one)"
   ]
  },
  {
   "cell_type": "code",
   "execution_count": 24,
   "id": "ff40fc7f-7f56-4c2e-9b86-3801815f8a9c",
   "metadata": {},
   "outputs": [
    {
     "data": {
      "text/plain": [
       "6"
      ]
     },
     "execution_count": 24,
     "metadata": {},
     "output_type": "execute_result"
    }
   ],
   "source": [
    "# work on one array and give you the sum of all elements in that one array > even on axises\n",
    "np.sum(array_one)"
   ]
  },
  {
   "cell_type": "code",
   "execution_count": 27,
   "id": "8560985d-9795-4c80-a04f-cd58ce6fb0fd",
   "metadata": {},
   "outputs": [
    {
     "name": "stdout",
     "output_type": "stream",
     "text": [
      "21\n",
      "[5 7 9]\n",
      "[ 6 15]\n"
     ]
    }
   ],
   "source": [
    "array_three = np.array(\n",
    "    [\n",
    "        [1,2,3],\n",
    "        [4,5,6]\n",
    "    ]\n",
    ")\n",
    "# axis 0 > colunms\n",
    "# axis 1 > row\n",
    "print(np.sum(array_three)) # sum of all 1+2+3 +...\n",
    "print(np.sum(array_three,axis=0))\n",
    "print(np.sum(array_three,axis=1))"
   ]
  },
  {
   "cell_type": "code",
   "execution_count": 31,
   "id": "6eb148e3-4345-4447-ab6c-bc3ef145e8a1",
   "metadata": {},
   "outputs": [
    {
     "name": "stdout",
     "output_type": "stream",
     "text": [
      "1 3\n",
      "4 6\n",
      "1 6\n"
     ]
    }
   ],
   "source": [
    "# minimum in one array or .max() > element wise\n",
    "print(array_one.min(),array_one.max())\n",
    "print(array_two.min(),array_two.max())\n",
    "print(array_three.min(),array_three.max())"
   ]
  },
  {
   "cell_type": "code",
   "execution_count": 33,
   "id": "376d9127-12f6-47a9-b1e1-51847a6baa3a",
   "metadata": {},
   "outputs": [],
   "source": [
    "# work on two none similar array\n",
    "array_four = np.array(\n",
    "    [\n",
    "        [1,2,3]\n",
    "    ]\n",
    ")\n",
    "\n",
    "array_five = np.array(\n",
    "    [\n",
    "        [4,5,6]\n",
    "    ]\n",
    ")"
   ]
  },
  {
   "cell_type": "code",
   "execution_count": 54,
   "id": "55d9dd1b-efd9-4885-a0a6-4b0b67a8683b",
   "metadata": {},
   "outputs": [
    {
     "data": {
      "text/plain": [
       "array([[2, 3, 4]])"
      ]
     },
     "execution_count": 54,
     "metadata": {},
     "output_type": "execute_result"
    }
   ],
   "source": [
    "array_four + 1\n",
    "# 1 will be broadcasted > spread(stretch) one between all elements > 1 > [[1,1,1]]\n",
    "# broad casting > atumatically\n",
    "# broad casting > c language(faster)"
   ]
  },
  {
   "cell_type": "code",
   "execution_count": 38,
   "id": "93c2d638-10d7-4daa-add9-7f9be0b89a19",
   "metadata": {},
   "outputs": [],
   "source": [
    "# smaller array will be broad casted to bigger array"
   ]
  },
  {
   "cell_type": "code",
   "execution_count": 46,
   "id": "009d1fa5-a699-4c6e-aee6-d453174f5194",
   "metadata": {},
   "outputs": [],
   "source": [
    "# if numpy be able to broad cast > ok > two array must be equal in some way\n",
    "# if not > error\n",
    "# stretch > 1-horizentally > incrase in colunms(lack row col) in needed cols\n",
    "# 2-vertically > increase in rows(lack of row) in needed rows"
   ]
  },
  {
   "cell_type": "code",
   "execution_count": 48,
   "id": "cb8cc655-d4c6-433a-a1b1-c43ba7e2cb4e",
   "metadata": {},
   "outputs": [
    {
     "data": {
      "text/plain": [
       "array([[ 2,  4,  6],\n",
       "       [ 8, 10, 12]])"
      ]
     },
     "execution_count": 48,
     "metadata": {},
     "output_type": "execute_result"
    }
   ],
   "source": [
    "array_six = np.array(\n",
    "    [\n",
    "        [1,2,3],\n",
    "        [7,8,9]\n",
    "    ]\n",
    ")\n",
    "array_six + array_four"
   ]
  },
  {
   "cell_type": "code",
   "execution_count": 43,
   "id": "eb6c2676-dbc5-4006-9221-ae53856e4c41",
   "metadata": {},
   "outputs": [
    {
     "data": {
      "text/plain": [
       "array([[ 5,  7,  9],\n",
       "       [11, 13, 15]])"
      ]
     },
     "execution_count": 43,
     "metadata": {},
     "output_type": "execute_result"
    }
   ],
   "source": [
    "array_six + array_five"
   ]
  },
  {
   "cell_type": "code",
   "execution_count": 49,
   "id": "a689be4d-d293-4363-98e4-68157bc28905",
   "metadata": {},
   "outputs": [
    {
     "ename": "ValueError",
     "evalue": "operands could not be broadcast together with shapes (2,3) (1,4) ",
     "output_type": "error",
     "traceback": [
      "\u001b[1;31m---------------------------------------------------------------------------\u001b[0m",
      "\u001b[1;31mValueError\u001b[0m                                Traceback (most recent call last)",
      "Cell \u001b[1;32mIn[49], line 12\u001b[0m\n\u001b[0;32m      1\u001b[0m array_seven \u001b[38;5;241m=\u001b[39m np\u001b[38;5;241m.\u001b[39marray(\n\u001b[0;32m      2\u001b[0m     [\n\u001b[0;32m      3\u001b[0m         [\u001b[38;5;241m1\u001b[39m,\u001b[38;5;241m2\u001b[39m,\u001b[38;5;241m3\u001b[39m],\n\u001b[0;32m      4\u001b[0m         [\u001b[38;5;241m7\u001b[39m,\u001b[38;5;241m8\u001b[39m,\u001b[38;5;241m9\u001b[39m]\n\u001b[0;32m      5\u001b[0m     ]\n\u001b[0;32m      6\u001b[0m )\n\u001b[0;32m      7\u001b[0m array_eight \u001b[38;5;241m=\u001b[39m np\u001b[38;5;241m.\u001b[39marray(\n\u001b[0;32m      8\u001b[0m     [\n\u001b[0;32m      9\u001b[0m         [\u001b[38;5;241m4\u001b[39m,\u001b[38;5;241m5\u001b[39m,\u001b[38;5;241m6\u001b[39m,\u001b[38;5;241m7\u001b[39m]\n\u001b[0;32m     10\u001b[0m     ]\n\u001b[0;32m     11\u001b[0m )\n\u001b[1;32m---> 12\u001b[0m \u001b[43marray_seven\u001b[49m\u001b[43m \u001b[49m\u001b[38;5;241;43m+\u001b[39;49m\u001b[43m \u001b[49m\u001b[43marray_eight\u001b[49m\n",
      "\u001b[1;31mValueError\u001b[0m: operands could not be broadcast together with shapes (2,3) (1,4) "
     ]
    }
   ],
   "source": [
    "array_seven = np.array(\n",
    "    [\n",
    "        [1,2,3],\n",
    "        [7,8,9]\n",
    "    ]\n",
    ")\n",
    "array_eight = np.array(\n",
    "    [\n",
    "        [4,5,6,7]\n",
    "    ]\n",
    ")\n",
    "array_seven + array_eight"
   ]
  },
  {
   "cell_type": "code",
   "execution_count": 52,
   "id": "a2eb94ab-1d20-4e51-a9e9-acef176c0307",
   "metadata": {},
   "outputs": [
    {
     "data": {
      "text/plain": [
       "array([[5, 6, 7],\n",
       "       [6, 7, 8],\n",
       "       [7, 8, 9]])"
      ]
     },
     "execution_count": 52,
     "metadata": {},
     "output_type": "execute_result"
    }
   ],
   "source": [
    "array_nine = np.array(\n",
    "    [\n",
    "        [1,2,3]\n",
    "    ]\n",
    ")\n",
    "array_ten = np.array(\n",
    "    [\n",
    "        [4],\n",
    "        [5],\n",
    "        [6]\n",
    "    ]\n",
    ")\n",
    "array_nine + array_ten"
   ]
  }
 ],
 "metadata": {
  "kernelspec": {
   "display_name": "Python 3 (ipykernel)",
   "language": "python",
   "name": "python3"
  },
  "language_info": {
   "codemirror_mode": {
    "name": "ipython",
    "version": 3
   },
   "file_extension": ".py",
   "mimetype": "text/x-python",
   "name": "python",
   "nbconvert_exporter": "python",
   "pygments_lexer": "ipython3",
   "version": "3.13.7"
  }
 },
 "nbformat": 4,
 "nbformat_minor": 5
}
