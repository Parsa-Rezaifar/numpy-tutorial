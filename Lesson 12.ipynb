{
 "cells": [
  {
   "cell_type": "markdown",
   "id": "304552a3-425d-4952-949b-83781de9bef3",
   "metadata": {},
   "source": [
    "# Methods(part 3)"
   ]
  },
  {
   "cell_type": "code",
   "execution_count": 1,
   "id": "ba298ccd-9e45-446a-a7eb-17d4f0b9364b",
   "metadata": {},
   "outputs": [],
   "source": [
    "import numpy as np"
   ]
  },
  {
   "cell_type": "code",
   "execution_count": 26,
   "id": "9bebe7f3-043a-4766-9c72-4972962af011",
   "metadata": {},
   "outputs": [
    {
     "data": {
      "text/plain": [
       "array([ 1.        ,  3.51282051,  6.02564103,  8.53846154, 11.05128205,\n",
       "       13.56410256, 16.07692308, 18.58974359, 21.1025641 , 23.61538462,\n",
       "       26.12820513, 28.64102564, 31.15384615, 33.66666667, 36.17948718,\n",
       "       38.69230769, 41.20512821, 43.71794872, 46.23076923, 48.74358974,\n",
       "       51.25641026, 53.76923077, 56.28205128, 58.79487179, 61.30769231,\n",
       "       63.82051282, 66.33333333, 68.84615385, 71.35897436, 73.87179487,\n",
       "       76.38461538, 78.8974359 , 81.41025641, 83.92307692, 86.43589744,\n",
       "       88.94871795, 91.46153846, 93.97435897, 96.48717949, 99.        ])"
      ]
     },
     "execution_count": 26,
     "metadata": {},
     "output_type": "execute_result"
    }
   ],
   "source": [
    "# To Create numbers which have even space with each other\n",
    "# What does is take ? start ,  stop , num\n",
    "# num means how many munbers you want and by default is 50\n",
    "# This gives us 40 numbers from 1 to 99 with equal space\n",
    "# stop is included and it's from start to stop\n",
    "# Which means that it has endpoint parameter and is True by default and stop will be shown but if you set it False stop will not be included\n",
    "# If you want to see the space set retstep as True which is False by default\n",
    "np.linspace(1,99,num=40)"
   ]
  },
  {
   "cell_type": "code",
   "execution_count": 27,
   "id": "82d671f4-9a1d-42b8-935b-696609d58c9f",
   "metadata": {},
   "outputs": [
    {
     "data": {
      "text/plain": [
       "(array([ 1.        ,  3.51282051,  6.02564103,  8.53846154, 11.05128205,\n",
       "        13.56410256, 16.07692308, 18.58974359, 21.1025641 , 23.61538462,\n",
       "        26.12820513, 28.64102564, 31.15384615, 33.66666667, 36.17948718,\n",
       "        38.69230769, 41.20512821, 43.71794872, 46.23076923, 48.74358974,\n",
       "        51.25641026, 53.76923077, 56.28205128, 58.79487179, 61.30769231,\n",
       "        63.82051282, 66.33333333, 68.84615385, 71.35897436, 73.87179487,\n",
       "        76.38461538, 78.8974359 , 81.41025641, 83.92307692, 86.43589744,\n",
       "        88.94871795, 91.46153846, 93.97435897, 96.48717949, 99.        ]),\n",
       " np.float64(2.5128205128205128))"
      ]
     },
     "execution_count": 27,
     "metadata": {},
     "output_type": "execute_result"
    }
   ],
   "source": [
    "np.linspace(1,99,num=40,retstep=True)"
   ]
  },
  {
   "cell_type": "code",
   "execution_count": 13,
   "id": "194ae474-a34b-4419-ad9b-2e2d8bbcfb59",
   "metadata": {},
   "outputs": [
    {
     "name": "stdout",
     "output_type": "stream",
     "text": [
      "[1, 4, 9, 16, 25, 36, 49, 64, 81, 100]\n"
     ]
    },
    {
     "data": {
      "text/plain": [
       "array([  1,   4,   9,  16,  25,  36,  49,  64,  81, 100], dtype=int8)"
      ]
     },
     "execution_count": 13,
     "metadata": {},
     "output_type": "execute_result"
    }
   ],
   "source": [
    "# This makes an 1D array from given iterable(for loops)\n",
    "# iterable(for loops)\n",
    "# dtype is required for this method\n",
    "list = [i*i for i in range(1,11)]\n",
    "print(list)\n",
    "np.fromiter(list,dtype=np.int8)"
   ]
  },
  {
   "cell_type": "code",
   "execution_count": 16,
   "id": "3a096cf2-3688-4fd1-95fb-be6653fac33a",
   "metadata": {},
   "outputs": [
    {
     "data": {
      "text/plain": [
       "array([1, 2, 3, 4, 5, 6], dtype=int8)"
      ]
     },
     "execution_count": 16,
     "metadata": {},
     "output_type": "execute_result"
    }
   ],
   "source": [
    "# Use string instead and takes a string and save its data as an array\n",
    "# dtype is float by default, but it can be changed\n",
    "# for example > saving data in string\n",
    "# It has sep parameter which says what is the space of items in the string\n",
    "# for seperating data\n",
    "# you must always give seperator to prevent possible errors\n",
    "np.fromstring('1,2,3,4,5,6',dtype=np.int8,sep=',')"
   ]
  },
  {
   "cell_type": "code",
   "execution_count": 18,
   "id": "62a5e3f7-75f9-4134-bf59-08870322caa5",
   "metadata": {},
   "outputs": [
    {
     "name": "stderr",
     "output_type": "stream",
     "text": [
      "C:\\Users\\veniz\\AppData\\Local\\Temp\\ipykernel_3168\\3880544747.py:2: DeprecationWarning: The binary mode of fromstring is deprecated, as it behaves surprisingly on unicode inputs. Use frombuffer instead\n",
      "  np.fromstring('1,2,3,4,5,6',dtype=np.int8)\n"
     ]
    },
    {
     "data": {
      "text/plain": [
       "array([49, 44, 50, 44, 51, 44, 52, 44, 53, 44, 54], dtype=int8)"
      ]
     },
     "execution_count": 18,
     "metadata": {},
     "output_type": "execute_result"
    }
   ],
   "source": [
    "# without seperator, it returns non-sense value and shows an error\n",
    "np.fromstring('1,2,3,4,5,6',dtype=np.int8)"
   ]
  },
  {
   "cell_type": "code",
   "execution_count": 20,
   "id": "b0b2a682-a196-4b54-bf90-45b75955647c",
   "metadata": {},
   "outputs": [
    {
     "data": {
      "text/plain": [
       "np.float64(3.141592653589793)"
      ]
     },
     "execution_count": 20,
     "metadata": {},
     "output_type": "execute_result"
    }
   ],
   "source": [
    "# Convert degree to radian and vice-versa\n",
    "# This converts degree to radian and takes degree\n",
    "np.radians(180)"
   ]
  },
  {
   "cell_type": "code",
   "execution_count": 21,
   "id": "e7c514f2-81e4-4a5b-b73c-154b4f40c78c",
   "metadata": {},
   "outputs": [
    {
     "data": {
      "text/plain": [
       "np.float64(6.283185307179586)"
      ]
     },
     "execution_count": 21,
     "metadata": {},
     "output_type": "execute_result"
    }
   ],
   "source": [
    "np.radians(360)"
   ]
  },
  {
   "cell_type": "code",
   "execution_count": 24,
   "id": "ef41e4f1-132e-44b1-b9aa-61bb80174545",
   "metadata": {},
   "outputs": [
    {
     "data": {
      "text/plain": [
       "np.float64(134.35860295817807)"
      ]
     },
     "execution_count": 24,
     "metadata": {},
     "output_type": "execute_result"
    }
   ],
   "source": [
    "# This converts radian to degree and takes radian as input\n",
    "np.degrees(2.345)"
   ]
  },
  {
   "cell_type": "code",
   "execution_count": 25,
   "id": "e039de5d-34f8-4808-9e3c-bbee5f3841af",
   "metadata": {},
   "outputs": [
    {
     "data": {
      "text/plain": [
       "np.float64(114.59155902616465)"
      ]
     },
     "execution_count": 25,
     "metadata": {},
     "output_type": "execute_result"
    }
   ],
   "source": [
    "np.degrees(2)"
   ]
  }
 ],
 "metadata": {
  "kernelspec": {
   "display_name": "Python 3 (ipykernel)",
   "language": "python",
   "name": "python3"
  },
  "language_info": {
   "codemirror_mode": {
    "name": "ipython",
    "version": 3
   },
   "file_extension": ".py",
   "mimetype": "text/x-python",
   "name": "python",
   "nbconvert_exporter": "python",
   "pygments_lexer": "ipython3",
   "version": "3.13.7"
  }
 },
 "nbformat": 4,
 "nbformat_minor": 5
}
