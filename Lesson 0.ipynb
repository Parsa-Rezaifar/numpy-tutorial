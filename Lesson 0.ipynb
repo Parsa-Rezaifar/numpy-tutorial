{
 "cells": [
  {
   "cell_type": "markdown",
   "id": "cd2db8dd-10ae-4f8d-adf8-fe98b45bc6cc",
   "metadata": {},
   "source": [
    "# Official website :\n",
    "https://numpy.org"
   ]
  },
  {
   "cell_type": "code",
   "execution_count": null,
   "id": "d98bedf1-5bed-46ff-b1b5-af1ddfab6f6c",
   "metadata": {},
   "outputs": [],
   "source": [
    "import numpy as np"
   ]
  },
  {
   "cell_type": "code",
   "execution_count": null,
   "id": "ab543e54-553a-4a8c-95aa-b337b6e9e692",
   "metadata": {},
   "outputs": [],
   "source": [
    "np.version"
   ]
  }
 ],
 "metadata": {
  "kernelspec": {
   "display_name": "Python 3 (ipykernel)",
   "language": "python",
   "name": "python3"
  },
  "language_info": {
   "codemirror_mode": {
    "name": "ipython",
    "version": 3
   },
   "file_extension": ".py",
   "mimetype": "text/x-python",
   "name": "python",
   "nbconvert_exporter": "python",
   "pygments_lexer": "ipython3",
   "version": "3.13.7"
  }
 },
 "nbformat": 4,
 "nbformat_minor": 5
}
