{
 "cells": [
  {
   "cell_type": "markdown",
   "id": "879be321-ae61-4aa5-ae82-0665fccb2837",
   "metadata": {},
   "source": [
    "# Array(part 1)"
   ]
  },
  {
   "cell_type": "code",
   "execution_count": 1,
   "id": "3b4b6a9d-58a7-429f-be03-78dfcb53b477",
   "metadata": {},
   "outputs": [],
   "source": [
    "import numpy as np"
   ]
  },
  {
   "cell_type": "code",
   "execution_count": 3,
   "id": "3ecd54fa-5ce7-4586-9a8b-30e9c1d061b1",
   "metadata": {},
   "outputs": [
    {
     "data": {
      "text/plain": [
       "'\\nIn 1D-array : numpy.array().shape > (number of elements in array,) > axis 0 > just one raw\\nExample : () > 1 element , (2,) > 2 elements , ...\\n\\nMore thant one dimention(= axis) > axis 0 : number of raws and axis 1 > number of colunms\\nand axis 2 > deepth > (raw,column,deepth) ~ (axis 0,axis 1,axis 2)\\n\\nrule : Shape >= 0\\n'"
      ]
     },
     "execution_count": 3,
     "metadata": {},
     "output_type": "execute_result"
    }
   ],
   "source": [
    "\"\"\"\n",
    "In 1D-array : numpy.array().shape > (number of elements in array,) > axis 1 is column > just one raw\n",
    "Example : () > 1 element , (2,) > 2 elements , ...\n",
    "\n",
    "More thant one dimention(= axis) > axis 0 : number of raws and axis 1 > number of colunms\n",
    "and axis 2 > deepth > (raw,column,deepth) ~ (axis 0,axis 1,axis 2)\n",
    "\n",
    "rule : Shape >= 0\n",
    "\"\"\""
   ]
  },
  {
   "cell_type": "code",
   "execution_count": 4,
   "id": "7d668f25-cf2e-497c-83da-4c7ce2ddbb21",
   "metadata": {},
   "outputs": [],
   "source": [
    "# Can't store more than one element without () or []\n",
    "array_one = np.array(22) # no dimention\n",
    "array_two = np.array([1,2,3])\n",
    "array_three = np.array((4,5,6))"
   ]
  },
  {
   "cell_type": "code",
   "execution_count": 5,
   "id": "9a20b12b-03e6-43e1-9a1e-13c03e5d669d",
   "metadata": {},
   "outputs": [
    {
     "data": {
      "text/plain": [
       "array(22)"
      ]
     },
     "execution_count": 5,
     "metadata": {},
     "output_type": "execute_result"
    }
   ],
   "source": [
    "array_one"
   ]
  },
  {
   "cell_type": "code",
   "execution_count": 6,
   "id": "c05623d2-ecd7-477d-a9ba-3df29a755fdf",
   "metadata": {},
   "outputs": [
    {
     "data": {
      "text/plain": [
       "array([1, 2, 3])"
      ]
     },
     "execution_count": 6,
     "metadata": {},
     "output_type": "execute_result"
    }
   ],
   "source": [
    "array_two"
   ]
  },
  {
   "cell_type": "code",
   "execution_count": 7,
   "id": "2162e015-d2f3-4b6a-ae47-ea5c37ed07d3",
   "metadata": {},
   "outputs": [
    {
     "data": {
      "text/plain": [
       "array([4, 5, 6])"
      ]
     },
     "execution_count": 7,
     "metadata": {},
     "output_type": "execute_result"
    }
   ],
   "source": [
    "array_three"
   ]
  },
  {
   "cell_type": "code",
   "execution_count": 8,
   "id": "a6507617-9357-4295-9f01-76476a1dcdf5",
   "metadata": {},
   "outputs": [
    {
     "name": "stdout",
     "output_type": "stream",
     "text": [
      "22 <class 'numpy.ndarray'> 0 ()\n",
      "[1 2 3] <class 'numpy.ndarray'> 1 (3,)\n",
      "[4 5 6] <class 'numpy.ndarray'> 1 (3,)\n"
     ]
    }
   ],
   "source": [
    "print(array_one,type(array_one),array_one.ndim,array_one.shape)\n",
    "print(array_two,type(array_two),array_two.ndim,array_two.shape)\n",
    "print(array_three,type(array_three),array_three.ndim,array_three.shape)"
   ]
  },
  {
   "cell_type": "code",
   "execution_count": 9,
   "id": "57bfc4a1-f94f-43c9-adba-9d15df4c3bb4",
   "metadata": {},
   "outputs": [
    {
     "ename": "TypeError",
     "evalue": "Field elements must be 2- or 3-tuples, got '4'",
     "output_type": "error",
     "traceback": [
      "\u001b[31m---------------------------------------------------------------------------\u001b[39m",
      "\u001b[31mTypeError\u001b[39m                                 Traceback (most recent call last)",
      "\u001b[36mCell\u001b[39m\u001b[36m \u001b[39m\u001b[32mIn[9]\u001b[39m\u001b[32m, line 2\u001b[39m\n\u001b[32m      1\u001b[39m \u001b[38;5;66;03m# Can't write as below(no matter use [] or ()) :\u001b[39;00m\n\u001b[32m----> \u001b[39m\u001b[32m2\u001b[39m array_four = \u001b[43mnp\u001b[49m\u001b[43m.\u001b[49m\u001b[43marray\u001b[49m\u001b[43m(\u001b[49m\n\u001b[32m      3\u001b[39m \u001b[43m    \u001b[49m\u001b[43m[\u001b[49m\u001b[32;43m1\u001b[39;49m\u001b[43m,\u001b[49m\u001b[32;43m2\u001b[39;49m\u001b[43m,\u001b[49m\u001b[32;43m3\u001b[39;49m\u001b[43m]\u001b[49m\u001b[43m,\u001b[49m\n\u001b[32m      4\u001b[39m \u001b[43m    \u001b[49m\u001b[43m[\u001b[49m\u001b[32;43m4\u001b[39;49m\u001b[43m,\u001b[49m\u001b[32;43m5\u001b[39;49m\u001b[43m,\u001b[49m\u001b[32;43m6\u001b[39;49m\u001b[43m]\u001b[49m\n\u001b[32m      5\u001b[39m \n\u001b[32m      6\u001b[39m \u001b[43m)\u001b[49m\n\u001b[32m      7\u001b[39m \u001b[38;5;28mprint\u001b[39m(array_four.ndim,array_four.shape)\n",
      "\u001b[31mTypeError\u001b[39m: Field elements must be 2- or 3-tuples, got '4'"
     ]
    }
   ],
   "source": [
    "# Can't write as below(no matter use [] or ()) :\n",
    "array_four = np.array(\n",
    "    [1,2,3],\n",
    "    [4,5,6]\n",
    "    \n",
    ")\n",
    "print(array_four.ndim,array_four.shape)"
   ]
  },
  {
   "cell_type": "code",
   "execution_count": 13,
   "id": "5dc0b005-bd3b-4c5d-b60a-f719b6a608d3",
   "metadata": {},
   "outputs": [
    {
     "name": "stdout",
     "output_type": "stream",
     "text": [
      "2 (2, 3)\n"
     ]
    }
   ],
   "source": [
    "# The right way to do this is :\n",
    "array_five = np.array([\n",
    "    [1,2,3],\n",
    "    [4,5,6]\n",
    "])\n",
    "print(array_five.ndim,array_five.shape)"
   ]
  },
  {
   "cell_type": "code",
   "execution_count": 15,
   "id": "bf2a5cfb-fd9b-4d51-b8f3-ad1761e4d1c4",
   "metadata": {},
   "outputs": [
    {
     "name": "stdout",
     "output_type": "stream",
     "text": [
      "3 (1, 2, 3)\n"
     ]
    }
   ],
   "source": [
    "array_six = np.array([\n",
    "    [\n",
    "        [1,2,3],\n",
    "        [4,5,6]\n",
    "    ]\n",
    "])\n",
    "print(array_six.ndim,array_six.shape)"
   ]
  },
  {
   "cell_type": "code",
   "execution_count": 16,
   "id": "f92d41bd-c4c7-4a4a-accb-8879fe34f7b6",
   "metadata": {},
   "outputs": [],
   "source": [
    "array_seven = np.array([])"
   ]
  },
  {
   "cell_type": "code",
   "execution_count": 17,
   "id": "80f551f1-03db-4ce2-a5a9-6d95cbb036d0",
   "metadata": {},
   "outputs": [
    {
     "data": {
      "text/plain": [
       "1"
      ]
     },
     "execution_count": 17,
     "metadata": {},
     "output_type": "execute_result"
    }
   ],
   "source": [
    "array_seven.ndim"
   ]
  },
  {
   "cell_type": "code",
   "execution_count": 18,
   "id": "c50a3d64-040b-4831-b8d8-7372bf115952",
   "metadata": {},
   "outputs": [
    {
     "data": {
      "text/plain": [
       "(0,)"
      ]
     },
     "execution_count": 18,
     "metadata": {},
     "output_type": "execute_result"
    }
   ],
   "source": [
    "array_seven.shape"
   ]
  },
  {
   "cell_type": "code",
   "execution_count": 19,
   "id": "752eab51-8c6e-4505-98eb-760783ac7d09",
   "metadata": {},
   "outputs": [],
   "source": [
    "array_eight = np.array(\n",
    "    [\n",
    "        [1,2],\n",
    "        [3,4],\n",
    "        [5,6]\n",
    "    ]\n",
    ")"
   ]
  },
  {
   "cell_type": "code",
   "execution_count": 20,
   "id": "fb6243b6-ac95-460a-8ec4-86a402ffc6a9",
   "metadata": {},
   "outputs": [
    {
     "data": {
      "text/plain": [
       "(3, 2)"
      ]
     },
     "execution_count": 20,
     "metadata": {},
     "output_type": "execute_result"
    }
   ],
   "source": [
    "array_eight.shape"
   ]
  },
  {
   "cell_type": "code",
   "execution_count": 21,
   "id": "351b474f-1a8b-4e6e-b757-a629eae967ae",
   "metadata": {},
   "outputs": [],
   "source": [
    "array_nine = np.array([1,2.3])"
   ]
  },
  {
   "cell_type": "code",
   "execution_count": 22,
   "id": "d3d4daeb-0fab-4e65-ada5-b697dcdda0a2",
   "metadata": {},
   "outputs": [
    {
     "data": {
      "text/plain": [
       "array([1. , 2.3])"
      ]
     },
     "execution_count": 22,
     "metadata": {},
     "output_type": "execute_result"
    }
   ],
   "source": [
    "array_nine"
   ]
  },
  {
   "cell_type": "code",
   "execution_count": 23,
   "id": "8c826765-ac61-4c76-b605-e83b76a201a9",
   "metadata": {},
   "outputs": [],
   "source": [
    "array_ten = np.array([1,'parsa'])"
   ]
  },
  {
   "cell_type": "code",
   "execution_count": 24,
   "id": "b04f58bd-823f-4417-b551-b5d8781b353d",
   "metadata": {},
   "outputs": [
    {
     "data": {
      "text/plain": [
       "array(['1', 'parsa'], dtype='<U21')"
      ]
     },
     "execution_count": 24,
     "metadata": {},
     "output_type": "execute_result"
    }
   ],
   "source": [
    "array_ten"
   ]
  },
  {
   "cell_type": "code",
   "execution_count": 25,
   "id": "ce6afd89-1e30-4fef-9a50-2cb18344596d",
   "metadata": {},
   "outputs": [],
   "source": [
    "array_eleven = np.array([1,True])"
   ]
  },
  {
   "cell_type": "code",
   "execution_count": 26,
   "id": "4a45307f-bd0f-41e4-ae8a-8b9f59ad3f16",
   "metadata": {},
   "outputs": [
    {
     "data": {
      "text/plain": [
       "array([1, 1])"
      ]
     },
     "execution_count": 26,
     "metadata": {},
     "output_type": "execute_result"
    }
   ],
   "source": [
    "array_eleven"
   ]
  },
  {
   "cell_type": "code",
   "execution_count": 27,
   "id": "5d69918a-159c-4474-8ba0-a18c293e8858",
   "metadata": {},
   "outputs": [],
   "source": [
    "array_twelve = np.array(['parsa',True])"
   ]
  },
  {
   "cell_type": "code",
   "execution_count": 28,
   "id": "b93c3c1f-1831-448d-9586-a14149b9ab52",
   "metadata": {},
   "outputs": [
    {
     "data": {
      "text/plain": [
       "array(['parsa', 'True'], dtype='<U5')"
      ]
     },
     "execution_count": 28,
     "metadata": {},
     "output_type": "execute_result"
    }
   ],
   "source": [
    "array_twelve"
   ]
  },
  {
   "cell_type": "code",
   "execution_count": 29,
   "id": "ffc90b45-09e9-4ed7-b7cd-da2ead2fba1d",
   "metadata": {},
   "outputs": [],
   "source": [
    "array_thirteen = np.array([1,2,3])"
   ]
  },
  {
   "cell_type": "code",
   "execution_count": 30,
   "id": "15334936-3dfa-42b1-9e67-088e35b26e55",
   "metadata": {},
   "outputs": [
    {
     "data": {
      "text/plain": [
       "dtype('int64')"
      ]
     },
     "execution_count": 30,
     "metadata": {},
     "output_type": "execute_result"
    }
   ],
   "source": [
    "array_thirteen.dtype"
   ]
  },
  {
   "cell_type": "code",
   "execution_count": 31,
   "id": "567104fa-d9e5-4425-8549-3a456a9d90d4",
   "metadata": {},
   "outputs": [],
   "source": [
    "array_fourteen = np.array([1,2,3],np.uint8)"
   ]
  },
  {
   "cell_type": "code",
   "execution_count": 32,
   "id": "0dd0542e-51cd-4c6e-929c-fa0d95db7b84",
   "metadata": {},
   "outputs": [
    {
     "data": {
      "text/plain": [
       "array([1, 2, 3], dtype=uint8)"
      ]
     },
     "execution_count": 32,
     "metadata": {},
     "output_type": "execute_result"
    }
   ],
   "source": [
    "array_fourteen"
   ]
  },
  {
   "cell_type": "markdown",
   "id": "2ef7d1a7-fb65-4900-8875-edaa59f46b50",
   "metadata": {},
   "source": [
    "### Example"
   ]
  },
  {
   "cell_type": "code",
   "execution_count": 35,
   "id": "3c027fec-9c6b-4b77-90f1-826c52769e79",
   "metadata": {},
   "outputs": [
    {
     "name": "stdout",
     "output_type": "stream",
     "text": [
      "Shape of arraya :  (1, 1, 1, 4, 6)\n",
      "Dimention(s) :  5\n",
      "Raws : 4\n",
      "Colunms : 6\n",
      "Elements :  24\n",
      "Dtype :  uint8\n",
      "First raw :  [1 2 3 4 5 6]\n",
      "Second raw :  [ 7  8  9 10 11 12]\n",
      "Third raw :  [13 14 15 16 17 18]\n",
      "Fourth raw :  [19 20 21 22 23 24]\n"
     ]
    }
   ],
   "source": [
    "a = np.array(\n",
    "    [\n",
    "        [\n",
    "            [\n",
    "                [\n",
    "                    [1,2,3,4,5,6],\n",
    "                    [7,8,9,10,11,12],\n",
    "                    [13,14,15,16,17,18],\n",
    "                    [19,20,21,22,23,24],\n",
    "                ]\n",
    "            ]\n",
    "        ]\n",
    "    ],dtype=np.uint8\n",
    ")\n",
    "print(\"Shape of arraya : \",a.shape)\n",
    "print(\"Dimention(s) : \",a.ndim)\n",
    "print(\"Raws :\",a.shape[3])\n",
    "print(\"Colunms :\",a.shape[4])\n",
    "print(\"Elements : \",a.shape[3]*a.shape[4])\n",
    "print(\"Dtype : \",a.dtype)\n",
    "# By indexig you can access to any specific element\n",
    "print(\"First raw : \",a[0][0][0][0])\n",
    "print(\"Second raw : \",a[0][0][0][1])\n",
    "print(\"Third raw : \",a[0][0][0][2])\n",
    "print(\"Fourth raw : \",a[0][0][0][3])"
   ]
  }
 ],
 "metadata": {
  "kernelspec": {
   "display_name": "Python 3 (ipykernel)",
   "language": "python",
   "name": "python3"
  },
  "language_info": {
   "codemirror_mode": {
    "name": "ipython",
    "version": 3
   },
   "file_extension": ".py",
   "mimetype": "text/x-python",
   "name": "python",
   "nbconvert_exporter": "python",
   "pygments_lexer": "ipython3",
   "version": "3.13.7"
  }
 },
 "nbformat": 4,
 "nbformat_minor": 5
}
