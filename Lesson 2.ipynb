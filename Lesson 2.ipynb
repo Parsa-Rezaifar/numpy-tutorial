{
 "cells": [
  {
   "cell_type": "markdown",
   "id": "5f528dda-1257-4a61-bf46-4a95d1dd97e8",
   "metadata": {},
   "source": [
    "# Methods(part 1)"
   ]
  },
  {
   "cell_type": "code",
   "execution_count": 1,
   "id": "b7e464e2-b20a-4ed2-aa81-f3596840c668",
   "metadata": {},
   "outputs": [],
   "source": [
    "import numpy as np"
   ]
  },
  {
   "cell_type": "code",
   "execution_count": 3,
   "id": "43e0e93e-656e-4f6a-9410-c6518a9c621e",
   "metadata": {},
   "outputs": [],
   "source": [
    "array_one = np.array(\n",
    "    [\n",
    "        [1,2,3],\n",
    "        [4,5,6],\n",
    "        [7,8,9]\n",
    "    ]\n",
    ")"
   ]
  },
  {
   "cell_type": "code",
   "execution_count": 6,
   "id": "aeacb3ca-2517-4446-9964-88ebbd70a76b",
   "metadata": {},
   "outputs": [
    {
     "data": {
      "text/plain": [
       "2"
      ]
     },
     "execution_count": 6,
     "metadata": {},
     "output_type": "execute_result"
    }
   ],
   "source": [
    "# Number of axis' or dimention(s) > axis = dimention\n",
    "array_one.ndim"
   ]
  },
  {
   "cell_type": "code",
   "execution_count": 7,
   "id": "c833af82-bf8a-4caa-bce8-aebe6f2d7ce1",
   "metadata": {},
   "outputs": [
    {
     "data": {
      "text/plain": [
       "9"
      ]
     },
     "execution_count": 7,
     "metadata": {},
     "output_type": "execute_result"
    }
   ],
   "source": [
    "# number of all elements in array\n",
    "array_one.size"
   ]
  },
  {
   "cell_type": "code",
   "execution_count": 8,
   "id": "6d0b53f0-44d6-4d1c-ad9b-4583410fc368",
   "metadata": {},
   "outputs": [
    {
     "data": {
      "text/plain": [
       "(3, 3)"
      ]
     },
     "execution_count": 8,
     "metadata": {},
     "output_type": "execute_result"
    }
   ],
   "source": [
    "# The structure of array > (raw,colunm) > (axis 0 , axis 1)\n",
    "array_one.shape"
   ]
  },
  {
   "cell_type": "code",
   "execution_count": 16,
   "id": "24fa36c7-3dc1-458c-9452-9a908f64dbe7",
   "metadata": {},
   "outputs": [
    {
     "data": {
      "text/plain": [
       "array([[1, 2, 3, 4, 5, 6, 7, 8, 9]])"
      ]
     },
     "execution_count": 16,
     "metadata": {},
     "output_type": "execute_result"
    }
   ],
   "source": [
    "# Change the structure of array(create new array-not changing the original array) > fit all elements > multiple of number of elements\n",
    "# array_one.reshape(raw,colunm)\n",
    "array_one.reshape(1,9)"
   ]
  },
  {
   "cell_type": "code",
   "execution_count": 10,
   "id": "20964f1b-5c15-4c5e-90c2-05c1e2e25d60",
   "metadata": {},
   "outputs": [
    {
     "data": {
      "text/plain": [
       "array([[1],\n",
       "       [2],\n",
       "       [3],\n",
       "       [4],\n",
       "       [5],\n",
       "       [6],\n",
       "       [7],\n",
       "       [8],\n",
       "       [9]])"
      ]
     },
     "execution_count": 10,
     "metadata": {},
     "output_type": "execute_result"
    }
   ],
   "source": [
    "array_one.reshape(9,1)"
   ]
  },
  {
   "cell_type": "code",
   "execution_count": 11,
   "id": "20490479-0fcc-4e25-878e-89c80c02fa0d",
   "metadata": {},
   "outputs": [
    {
     "data": {
      "text/plain": [
       "(2, 3)"
      ]
     },
     "execution_count": 11,
     "metadata": {},
     "output_type": "execute_result"
    }
   ],
   "source": [
    "array_two = np.array(\n",
    "    [\n",
    "        [1,2,3],\n",
    "        [4,5,6],\n",
    "    ]\n",
    ")\n",
    "array_two.shape"
   ]
  },
  {
   "cell_type": "code",
   "execution_count": 12,
   "id": "6b3192be-ecf6-4491-afc7-2caf117c800e",
   "metadata": {},
   "outputs": [
    {
     "data": {
      "text/plain": [
       "array([[1, 2],\n",
       "       [3, 4],\n",
       "       [5, 6]])"
      ]
     },
     "execution_count": 12,
     "metadata": {},
     "output_type": "execute_result"
    }
   ],
   "source": [
    "array_two.reshape(3,2)"
   ]
  },
  {
   "cell_type": "code",
   "execution_count": 13,
   "id": "90a64f5d-03ac-4836-b185-fe926e5912a1",
   "metadata": {},
   "outputs": [],
   "source": [
    "array_three = array_two.reshape(3,2)"
   ]
  },
  {
   "cell_type": "code",
   "execution_count": 14,
   "id": "9623e564-6d71-4be1-b46a-cea6e4ad8f6c",
   "metadata": {},
   "outputs": [
    {
     "data": {
      "text/plain": [
       "array([[1, 2, 3],\n",
       "       [4, 5, 6]])"
      ]
     },
     "execution_count": 14,
     "metadata": {},
     "output_type": "execute_result"
    }
   ],
   "source": [
    "array_two"
   ]
  },
  {
   "cell_type": "code",
   "execution_count": 17,
   "id": "18edac3d-6c82-484f-a93b-a23323af1c2c",
   "metadata": {},
   "outputs": [
    {
     "data": {
      "text/plain": [
       "array([[1, 2],\n",
       "       [3, 4],\n",
       "       [5, 6]])"
      ]
     },
     "execution_count": 17,
     "metadata": {},
     "output_type": "execute_result"
    }
   ],
   "source": [
    "array_three"
   ]
  },
  {
   "cell_type": "code",
   "execution_count": 18,
   "id": "b4bc0fe6-2001-4f2e-a7ca-d372eb50d0e5",
   "metadata": {},
   "outputs": [
    {
     "data": {
      "text/plain": [
       "np.int64(2)"
      ]
     },
     "execution_count": 18,
     "metadata": {},
     "output_type": "execute_result"
    }
   ],
   "source": [
    "# Sclicing(normal)\n",
    "array_one[0][1]"
   ]
  },
  {
   "cell_type": "code",
   "execution_count": 19,
   "id": "5188df0e-2b43-4ed5-aa33-a4b59aa2fd85",
   "metadata": {},
   "outputs": [
    {
     "data": {
      "text/plain": [
       "np.int64(3)"
      ]
     },
     "execution_count": 19,
     "metadata": {},
     "output_type": "execute_result"
    }
   ],
   "source": [
    "# Numpy recommendation\n",
    "# array_name[raw,colunm]\n",
    "array_one[0,2]"
   ]
  },
  {
   "cell_type": "code",
   "execution_count": 20,
   "id": "b623b31c-6f33-4e31-8da6-1a4b57ddb53d",
   "metadata": {},
   "outputs": [
    {
     "data": {
      "text/plain": [
       "array([[1, 2, 3],\n",
       "       [4, 5, 6]])"
      ]
     },
     "execution_count": 20,
     "metadata": {},
     "output_type": "execute_result"
    }
   ],
   "source": [
    "# Range > array_name[raw_start_index:raw_end_index]\n",
    "# Raw_end_index is not included > [raw_start_index:raw_end_index-1]\n",
    "# 0 is optional\n",
    "array_one[0:2]"
   ]
  },
  {
   "cell_type": "code",
   "execution_count": 22,
   "id": "3af069c5-5899-488e-88dc-006837c50cee",
   "metadata": {},
   "outputs": [
    {
     "data": {
      "text/plain": [
       "array([[1, 2, 3],\n",
       "       [4, 5, 6]])"
      ]
     },
     "execution_count": 22,
     "metadata": {},
     "output_type": "execute_result"
    }
   ],
   "source": [
    "array_one[:2]"
   ]
  },
  {
   "cell_type": "code",
   "execution_count": 21,
   "id": "d7ff79c4-db23-4019-bdf2-1f71eb71e748",
   "metadata": {},
   "outputs": [
    {
     "data": {
      "text/plain": [
       "array([[1, 2, 3],\n",
       "       [4, 5, 6],\n",
       "       [7, 8, 9]])"
      ]
     },
     "execution_count": 21,
     "metadata": {},
     "output_type": "execute_result"
    }
   ],
   "source": [
    "# From start to end\n",
    "array_one[:]"
   ]
  },
  {
   "cell_type": "code",
   "execution_count": 22,
   "id": "61cb21de-305e-44fa-be85-878c70f9c47b",
   "metadata": {},
   "outputs": [
    {
     "data": {
      "text/plain": [
       "1"
      ]
     },
     "execution_count": 22,
     "metadata": {},
     "output_type": "execute_result"
    }
   ],
   "source": [
    "# Merge or splite\n",
    "# Note : no matter use [] or ()\n",
    "array_four = np.array((11,12,33))\n",
    "array_four.ndim"
   ]
  },
  {
   "cell_type": "code",
   "execution_count": 23,
   "id": "58c1f7de-044c-48c3-a86b-54ad368be300",
   "metadata": {},
   "outputs": [
    {
     "data": {
      "text/plain": [
       "array([[ 1,  2,  3],\n",
       "       [ 4,  5,  6],\n",
       "       [ 7,  8,  9],\n",
       "       [11, 12, 33]])"
      ]
     },
     "execution_count": 23,
     "metadata": {},
     "output_type": "execute_result"
    }
   ],
   "source": [
    "# Merging vertical\n",
    "# np.vstack((a,b)) > will add b at the end of a vertically as a row\n",
    "# pay attention about dimentions limit in vstack and hstack\n",
    "np.vstack((array_one,array_four))"
   ]
  },
  {
   "cell_type": "code",
   "execution_count": 24,
   "id": "37001006-673b-4117-9a75-95879e1eb331",
   "metadata": {},
   "outputs": [
    {
     "data": {
      "text/plain": [
       "array([[11, 12, 33],\n",
       "       [ 1,  2,  3],\n",
       "       [ 4,  5,  6],\n",
       "       [ 7,  8,  9]])"
      ]
     },
     "execution_count": 24,
     "metadata": {},
     "output_type": "execute_result"
    }
   ],
   "source": [
    "np.vstack((array_four,array_one))"
   ]
  },
  {
   "cell_type": "code",
   "execution_count": 25,
   "id": "ec75036c-d5dc-4e1a-9e3c-1c81edd8eb44",
   "metadata": {},
   "outputs": [],
   "source": [
    "array_five = np.array(\n",
    "    [\n",
    "        [11],\n",
    "        [12],\n",
    "        [23]\n",
    "    ]\n",
    ")"
   ]
  },
  {
   "cell_type": "code",
   "execution_count": 26,
   "id": "1692440c-ec78-4311-9f3c-3ffc0a6a0d82",
   "metadata": {},
   "outputs": [
    {
     "data": {
      "text/plain": [
       "array([[ 1,  2,  3, 11],\n",
       "       [ 4,  5,  6, 12],\n",
       "       [ 7,  8,  9, 23]])"
      ]
     },
     "execution_count": 26,
     "metadata": {},
     "output_type": "execute_result"
    }
   ],
   "source": [
    "# np.hstack((a,b)) > will add b at the end of a horizontally as a colounm\n",
    "# pay attention about dimentions limit in vstack and hstack\n",
    "np.hstack((array_one,array_five))"
   ]
  },
  {
   "cell_type": "code",
   "execution_count": 54,
   "id": "0833bd94-79d5-4fba-8e35-a42486f8adfc",
   "metadata": {},
   "outputs": [
    {
     "data": {
      "text/plain": [
       "array([[11,  1,  2,  3],\n",
       "       [12,  4,  5,  6],\n",
       "       [23,  7,  8,  9]])"
      ]
     },
     "execution_count": 54,
     "metadata": {},
     "output_type": "execute_result"
    }
   ],
   "source": [
    "np.hstack((array_five,array_one))"
   ]
  },
  {
   "cell_type": "code",
   "execution_count": 58,
   "id": "dc4a1ebf-ba5c-4adb-98c6-1b5ccd5b66a0",
   "metadata": {},
   "outputs": [
    {
     "data": {
      "text/plain": [
       "array([[ 1,  2,  3, 11],\n",
       "       [ 4,  5,  6, 12],\n",
       "       [ 7,  8,  9, 23]])"
      ]
     },
     "execution_count": 58,
     "metadata": {},
     "output_type": "execute_result"
    }
   ],
   "source": [
    "# Both vstack and hstack together\n",
    "# pay attention about dimention limits in concatenate\n",
    "# array_name.concatenate((a,b),axis=0/1) > won't with 1D?\n",
    "# axis = 1 > will add b at the end of a horizontally as a colunm\n",
    "# axis = 0 > will add b at the end of a vertically as a row\n",
    "np.concatenate((array_one,array_five),axis=1)"
   ]
  },
  {
   "cell_type": "code",
   "execution_count": 56,
   "id": "696be546-fc84-43f1-a2a9-8543bf63225a",
   "metadata": {},
   "outputs": [
    {
     "data": {
      "text/plain": [
       "array([[11,  1,  2,  3],\n",
       "       [12,  4,  5,  6],\n",
       "       [23,  7,  8,  9]])"
      ]
     },
     "execution_count": 56,
     "metadata": {},
     "output_type": "execute_result"
    }
   ],
   "source": [
    "np.concatenate((array_five,array_one),axis=1)"
   ]
  },
  {
   "cell_type": "code",
   "execution_count": 59,
   "id": "4eb8862f-30ed-4997-9bde-a169a099bb4d",
   "metadata": {},
   "outputs": [],
   "source": [
    "array_six = np.array(\n",
    "    [\n",
    "        [11,12,33]\n",
    "    ]\n",
    ")"
   ]
  },
  {
   "cell_type": "code",
   "execution_count": 60,
   "id": "9279ca93-63ab-495f-96ad-a7b7dc811dec",
   "metadata": {},
   "outputs": [
    {
     "data": {
      "text/plain": [
       "array([[ 1,  2,  3],\n",
       "       [ 4,  5,  6],\n",
       "       [ 7,  8,  9],\n",
       "       [11, 12, 33]])"
      ]
     },
     "execution_count": 60,
     "metadata": {},
     "output_type": "execute_result"
    }
   ],
   "source": [
    "np.concatenate((array_one,array_six),axis=0)"
   ]
  },
  {
   "cell_type": "code",
   "execution_count": 62,
   "id": "0ad5b271-a12a-4eb2-a8fa-b3b73793b064",
   "metadata": {},
   "outputs": [
    {
     "data": {
      "text/plain": [
       "array([[11, 12, 33],\n",
       "       [ 1,  2,  3],\n",
       "       [ 4,  5,  6],\n",
       "       [ 7,  8,  9]])"
      ]
     },
     "execution_count": 62,
     "metadata": {},
     "output_type": "execute_result"
    }
   ],
   "source": [
    "np.concatenate((array_six,array_one),axis=0)"
   ]
  },
  {
   "cell_type": "code",
   "execution_count": null,
   "id": "ace94fb4-61a5-41c2-814a-918bffa78813",
   "metadata": {},
   "outputs": [],
   "source": [
    "# split\n",
    "# np.vsplit(array,number of splits)\n",
    "# number of splits must match to number to elements > number of splits // number to elements == 0\n",
    "np.vsplit() # spliting rows\n",
    "np.hsplit() # spliting colunms"
   ]
  },
  {
   "cell_type": "code",
   "execution_count": 63,
   "id": "9c0f5032-04d2-4a2a-ae5e-26dad1704f2c",
   "metadata": {},
   "outputs": [
    {
     "data": {
      "text/plain": [
       "[array([[1, 2, 3]]), array([[4, 5, 6]]), array([[7, 8, 9]])]"
      ]
     },
     "execution_count": 63,
     "metadata": {},
     "output_type": "execute_result"
    }
   ],
   "source": [
    "np.vsplit(array_one,3)"
   ]
  },
  {
   "cell_type": "code",
   "execution_count": 65,
   "id": "89b2db8d-3606-4067-9be3-945d45d3e24f",
   "metadata": {},
   "outputs": [
    {
     "data": {
      "text/plain": [
       "[array([[1],\n",
       "        [4],\n",
       "        [7]]),\n",
       " array([[2],\n",
       "        [5],\n",
       "        [8]]),\n",
       " array([[3],\n",
       "        [6],\n",
       "        [9]])]"
      ]
     },
     "execution_count": 65,
     "metadata": {},
     "output_type": "execute_result"
    }
   ],
   "source": [
    "np.hsplit(array_one,3)"
   ]
  },
  {
   "cell_type": "code",
   "execution_count": 68,
   "id": "1107e0f3-c317-40f1-bd54-ee521bce55e7",
   "metadata": {},
   "outputs": [
    {
     "data": {
      "text/plain": [
       "array([[1, 2, 3],\n",
       "       [4, 5, 6],\n",
       "       [7, 8, 9]])"
      ]
     },
     "execution_count": 68,
     "metadata": {},
     "output_type": "execute_result"
    }
   ],
   "source": [
    "# sorting array from biggest to smallest\n",
    "array_seven = np.array(\n",
    "    (\n",
    "        (1,3,2),\n",
    "        (6,5,4),\n",
    "        (8,7,9)\n",
    "    )\n",
    ")\n",
    "np.sort(array_seven)"
   ]
  },
  {
   "cell_type": "code",
   "execution_count": 75,
   "id": "c4c6a193-f2fc-41b7-be9d-30dd183bb89c",
   "metadata": {},
   "outputs": [],
   "source": [
    "# take a copy from array \n",
    "# 1- .copy() > full copy of array > create a new array\n",
    "# 2- .view() > take array and pass it > no change > point to that array"
   ]
  },
  {
   "cell_type": "code",
   "execution_count": 76,
   "id": "2a52f947-e439-4449-b595-20a4f233b96c",
   "metadata": {},
   "outputs": [],
   "source": [
    "# if you make changes in .copy() , will have no effect on main array"
   ]
  },
  {
   "cell_type": "code",
   "execution_count": 89,
   "id": "a1d0130f-5a33-489a-8b6a-f3c6f3acd1b0",
   "metadata": {},
   "outputs": [],
   "source": [
    "array_eight = array_one.copy()"
   ]
  },
  {
   "cell_type": "code",
   "execution_count": 77,
   "id": "d49a080c-6b63-4549-a645-b31d02ecb7fe",
   "metadata": {},
   "outputs": [],
   "source": [
    "# if you make any changes in .viwe , main array will be changed"
   ]
  },
  {
   "cell_type": "code",
   "execution_count": 90,
   "id": "ab98151e-89f5-4914-8f95-3d806a516266",
   "metadata": {},
   "outputs": [],
   "source": [
    "array_nine = array_one.view()"
   ]
  },
  {
   "cell_type": "code",
   "execution_count": 91,
   "id": "e3af8860-e090-49b9-9739-988ce892cf65",
   "metadata": {},
   "outputs": [
    {
     "data": {
      "text/plain": [
       "array([[ 1, 66,  3],\n",
       "       [ 4,  5,  6],\n",
       "       [ 7,  8,  9]])"
      ]
     },
     "execution_count": 91,
     "metadata": {},
     "output_type": "execute_result"
    }
   ],
   "source": [
    "array_eight"
   ]
  },
  {
   "cell_type": "code",
   "execution_count": 74,
   "id": "88c05fe3-2b8b-470e-a403-fa2a899b0966",
   "metadata": {},
   "outputs": [
    {
     "data": {
      "text/plain": [
       "array([[1, 2, 3],\n",
       "       [4, 5, 6],\n",
       "       [7, 8, 9]])"
      ]
     },
     "execution_count": 74,
     "metadata": {},
     "output_type": "execute_result"
    }
   ],
   "source": [
    "array_nine"
   ]
  },
  {
   "cell_type": "code",
   "execution_count": 78,
   "id": "dc03cbd2-ba40-487a-84eb-ecc658f2fb93",
   "metadata": {},
   "outputs": [],
   "source": [
    "array_eight[0,1] = 22"
   ]
  },
  {
   "cell_type": "code",
   "execution_count": 79,
   "id": "239a315b-9060-42b9-a3ec-790e521e1852",
   "metadata": {},
   "outputs": [
    {
     "name": "stdout",
     "output_type": "stream",
     "text": [
      "[[1 2 3]\n",
      " [4 5 6]\n",
      " [7 8 9]]\n",
      "*************\n",
      "[[ 1 22  3]\n",
      " [ 4  5  6]\n",
      " [ 7  8  9]]\n"
     ]
    }
   ],
   "source": [
    "print(array_one)\n",
    "print(\"*************\")\n",
    "print(array_eight)"
   ]
  },
  {
   "cell_type": "code",
   "execution_count": 81,
   "id": "bc679268-b536-422e-9eaf-b9832f979213",
   "metadata": {},
   "outputs": [],
   "source": [
    "array_nine[0,1] = 66"
   ]
  },
  {
   "cell_type": "code",
   "execution_count": 82,
   "id": "8557d4a2-6e0a-4535-b426-ded6e7b78b93",
   "metadata": {},
   "outputs": [
    {
     "name": "stdout",
     "output_type": "stream",
     "text": [
      "[[ 1 66  3]\n",
      " [ 4  5  6]\n",
      " [ 7  8  9]]\n",
      "*************\n",
      "[[ 1 66  3]\n",
      " [ 4  5  6]\n",
      " [ 7  8  9]]\n"
     ]
    }
   ],
   "source": [
    "print(array_one)\n",
    "print(\"*************\")\n",
    "print(array_nine)"
   ]
  },
  {
   "cell_type": "code",
   "execution_count": 94,
   "id": "1bf30bf5-e5de-4156-a11b-69ad335c1110",
   "metadata": {},
   "outputs": [],
   "source": [
    "# How find out an array is copy or view ?\n",
    "# .base > retutn the main used array (view) > whicj\n",
    "# .base > nothing will be returned > no base > is a new array"
   ]
  },
  {
   "cell_type": "code",
   "execution_count": 93,
   "id": "d00fff7b-6d05-4443-a447-5b27eb1495a9",
   "metadata": {},
   "outputs": [],
   "source": [
    "array_eight.base"
   ]
  },
  {
   "cell_type": "code",
   "execution_count": 95,
   "id": "fa7c13b7-d225-4559-9bd1-953aaf187ef8",
   "metadata": {},
   "outputs": [
    {
     "name": "stdout",
     "output_type": "stream",
     "text": [
      "None\n"
     ]
    }
   ],
   "source": [
    "print(array_eight.base)"
   ]
  },
  {
   "cell_type": "code",
   "execution_count": 87,
   "id": "5e0ed22c-413c-4457-beae-93699213be37",
   "metadata": {},
   "outputs": [
    {
     "data": {
      "text/plain": [
       "array([[ 1, 66,  3],\n",
       "       [ 4,  5,  6],\n",
       "       [ 7,  8,  9]])"
      ]
     },
     "execution_count": 87,
     "metadata": {},
     "output_type": "execute_result"
    }
   ],
   "source": [
    "array_nine.base"
   ]
  },
  {
   "cell_type": "code",
   "execution_count": 96,
   "id": "6306690a-3ce5-4a38-bd22-877f8616e4f2",
   "metadata": {},
   "outputs": [
    {
     "name": "stdout",
     "output_type": "stream",
     "text": [
      "[[ 1 66  3]\n",
      " [ 4  5  6]\n",
      " [ 7  8  9]]\n"
     ]
    }
   ],
   "source": [
    "print(array_nine.base)"
   ]
  }
 ],
 "metadata": {
  "kernelspec": {
   "display_name": "Python 3 (ipykernel)",
   "language": "python",
   "name": "python3"
  },
  "language_info": {
   "codemirror_mode": {
    "name": "ipython",
    "version": 3
   },
   "file_extension": ".py",
   "mimetype": "text/x-python",
   "name": "python",
   "nbconvert_exporter": "python",
   "pygments_lexer": "ipython3",
   "version": "3.13.7"
  }
 },
 "nbformat": 4,
 "nbformat_minor": 5
}
