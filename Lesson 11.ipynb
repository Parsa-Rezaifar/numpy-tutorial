{
 "cells": [
  {
   "cell_type": "markdown",
   "id": "e2a5dba5-1cac-4e92-808e-49e9c1e93bb3",
   "metadata": {},
   "source": [
    "# Random Sampling"
   ]
  },
  {
   "cell_type": "code",
   "execution_count": 2,
   "id": "fff415db-6666-404e-a90c-8aa02e1463dd",
   "metadata": {},
   "outputs": [],
   "source": [
    "# In numpy we have a module to create random numbers or arrays. Numpy used to use RandomState to do this, but now it uses BitGenerator and\n",
    "# Generator, but it's still usable in old documents and old versions. However no new features will be added to that.\n",
    "# Random generator includes new methods\n",
    "# But the Legacy Random generator icludes old ones\n",
    "# New version : import default_rng from numpy.random and create an instance From that. And it is a number generator and access to those methods\n",
    "# by using that instance\n",
    "# Old version : import random module directly from numpy and access directly to its methods\n",
    "# For example : random.standard_normal(number)"
   ]
  },
  {
   "cell_type": "code",
   "execution_count": 3,
   "id": "f706c638-5359-4caa-90f5-fd0447788d46",
   "metadata": {},
   "outputs": [],
   "source": [
    "import numpy as np"
   ]
  },
  {
   "cell_type": "markdown",
   "id": "a98c1772-9416-43f8-9a51-1bf00ab68295",
   "metadata": {},
   "source": [
    "# Old version"
   ]
  },
  {
   "cell_type": "code",
   "execution_count": 12,
   "id": "d8ed9e4b-cd01-4369-b70e-3d30cf40438a",
   "metadata": {},
   "outputs": [
    {
     "data": {
      "text/plain": [
       "4"
      ]
     },
     "execution_count": 12,
     "metadata": {},
     "output_type": "execute_result"
    }
   ],
   "source": [
    "# Make random numbers\n",
    "# This makes random integers numbers and take a number as its maximum which means between 0 to maximun\n",
    "# Creates a random number\n",
    "# np.random.randint(a) means a random number between 0 and a-1(a is not concluded)\n",
    "np.random.randint(9)"
   ]
  },
  {
   "cell_type": "code",
   "execution_count": 19,
   "id": "e2b6a9a1-52cf-4f79-aae1-3b52bebc07d3",
   "metadata": {},
   "outputs": [
    {
     "data": {
      "text/plain": [
       "16"
      ]
     },
     "execution_count": 19,
     "metadata": {},
     "output_type": "execute_result"
    }
   ],
   "source": [
    "# You can also have a range > (minimum,maximum) > maximum is not concluded\n",
    "# This gives a random number between minimum and maximum-1\n",
    "np.random.randint(1,20)"
   ]
  },
  {
   "cell_type": "code",
   "execution_count": 36,
   "id": "14ecae7e-c4e0-4e81-a5e5-03c4ab1f96cc",
   "metadata": {},
   "outputs": [
    {
     "data": {
      "text/plain": [
       "array([ 7,  7, 19], dtype=int32)"
      ]
     },
     "execution_count": 36,
     "metadata": {},
     "output_type": "execute_result"
    }
   ],
   "source": [
    "# Even you can send the third parameter which means how many numbers you want in that range\n",
    "# np.random.randint(minimum,maximum,counts)\n",
    "np.random.randint(1,20,3)"
   ]
  },
  {
   "cell_type": "code",
   "execution_count": 51,
   "id": "a942aeff-070c-4e87-86ce-8b32f886aa18",
   "metadata": {},
   "outputs": [
    {
     "data": {
      "text/plain": [
       "array([[14,  2],\n",
       "       [12, 10],\n",
       "       [ 5, 17],\n",
       "       [ 4, 12],\n",
       "       [15, 16]], dtype=int32)"
      ]
     },
     "execution_count": 51,
     "metadata": {},
     "output_type": "execute_result"
    }
   ],
   "source": [
    "# You can define the shape\n",
    "# a row(s) times b column(s) > (a,b)\n",
    "np.random.randint(1,20,(5,2))"
   ]
  },
  {
   "cell_type": "markdown",
   "id": "8ad85ac8-96c4-4348-8320-8e9c588d4c16",
   "metadata": {},
   "source": [
    "# New version"
   ]
  },
  {
   "cell_type": "code",
   "execution_count": 54,
   "id": "d25f30a2-00a0-43bf-9655-9612ba290091",
   "metadata": {},
   "outputs": [],
   "source": [
    "# Create a variable and you can name it whatever you want\n",
    "# This gives you a generator and creates random numbers with it and it has different methods\n",
    "# rng is an instance\n",
    "rng = np.random.default_rng()"
   ]
  },
  {
   "cell_type": "code",
   "execution_count": 61,
   "id": "fbf52c87-b35b-46d2-84b8-5ada24ef0eb4",
   "metadata": {},
   "outputs": [
    {
     "data": {
      "text/plain": [
       "np.int64(8)"
      ]
     },
     "execution_count": 61,
     "metadata": {},
     "output_type": "execute_result"
    }
   ],
   "source": [
    "# Create random integer numbers > like .int()\n",
    "# rng.integers(low)\n",
    "# If you just send low, it will be considered as maximum and from 0 to low will pick a random integer number\n",
    "rng.integers(9)"
   ]
  },
  {
   "cell_type": "code",
   "execution_count": 63,
   "id": "dbce939b-f326-41b6-83e0-ec33a38ce6d8",
   "metadata": {},
   "outputs": [
    {
     "data": {
      "text/plain": [
       "np.int64(3)"
      ]
     },
     "execution_count": 63,
     "metadata": {},
     "output_type": "execute_result"
    }
   ],
   "source": [
    "# If you send two number > the first is minimum and the second is maximum\n",
    "# rng.integers(a,b) > between a and b-1 and b is not included\n",
    "rng.integers(1,20)"
   ]
  },
  {
   "cell_type": "code",
   "execution_count": 72,
   "id": "668b132a-f9e9-4a76-97c6-ab195b449cbc",
   "metadata": {},
   "outputs": [
    {
     "data": {
      "text/plain": [
       "array([ 1,  5, 18])"
      ]
     },
     "execution_count": 72,
     "metadata": {},
     "output_type": "execute_result"
    }
   ],
   "source": [
    "# You can send the third parameter as its size which is its shape and it's count of values which will be returned\n",
    "# This gives you 3 numbers in an array\n",
    "rng.integers(1,20,size=3)"
   ]
  },
  {
   "cell_type": "code",
   "execution_count": 79,
   "id": "a1a5fb95-74ae-459e-a355-3a6863b236a5",
   "metadata": {},
   "outputs": [
    {
     "data": {
      "text/plain": [
       "array([[15, 15, 15],\n",
       "       [ 9, 19, 18]])"
      ]
     },
     "execution_count": 79,
     "metadata": {},
     "output_type": "execute_result"
    }
   ],
   "source": [
    "# Or send tuple as the third parameter which is for its shape\n",
    "# Create a random array which has 2 rows and 3 columns and has elements from 1 to 19\n",
    "rng.integers(1,20,(2,3))"
   ]
  },
  {
   "cell_type": "code",
   "execution_count": 87,
   "id": "c9e83a2c-eea4-4040-a0d2-6edf925bb61e",
   "metadata": {},
   "outputs": [
    {
     "data": {
      "text/plain": [
       "array([[20,  3, 16],\n",
       "       [11, 13, 11]])"
      ]
     },
     "execution_count": 87,
     "metadata": {},
     "output_type": "execute_result"
    }
   ],
   "source": [
    "# Also it has a dtype parameter which is set on np.int64 > dtype=np.int64 by default\n",
    "# And you have endpoint which says that the maximum is included or not. And by default is False and it's not included and True means it's included\n",
    "rng.integers(1,20,(2,3),endpoint=True)"
   ]
  },
  {
   "cell_type": "code",
   "execution_count": 91,
   "id": "c79716a1-3956-4e0a-84ad-d5f45383ad30",
   "metadata": {},
   "outputs": [
    {
     "data": {
      "text/plain": [
       "array([[19, 19, 19],\n",
       "       [ 8,  4, 18]])"
      ]
     },
     "execution_count": 91,
     "metadata": {},
     "output_type": "execute_result"
    }
   ],
   "source": [
    "# default_rng has a parameter named seed which is None by default, seed=any numbers you want\n",
    "# We use seed to initialize the BitGenerator. If we give seed a number, it will no longer gives us random numbers and give us repeated numbers\n",
    "rng2 = np.random.default_rng(seed=1234)\n",
    "# Or rng2 = np.random.default_rng(1234)\n",
    "rng2.integers(1,20,(2,3))\n",
    "# And at first if we run this, with that seed it gives us some randome numbers but after that\n",
    "# no matter how many times you run that with that seed , it gives you the same result as it gave you before unless you change the seed!"
   ]
  },
  {
   "cell_type": "code",
   "execution_count": 93,
   "id": "df6142ca-309c-40dd-9383-8a4343cf10de",
   "metadata": {},
   "outputs": [
    {
     "data": {
      "text/plain": [
       "array([[16,  5,  3],\n",
       "       [ 6,  8, 16]])"
      ]
     },
     "execution_count": 93,
     "metadata": {},
     "output_type": "execute_result"
    }
   ],
   "source": [
    "rng2 = np.random.default_rng(seed=2)\n",
    "rng2.integers(1,20,(2,3))\n",
    "# seed cannot be negative value or a float"
   ]
  },
  {
   "cell_type": "markdown",
   "id": "8ca18dfb-81c3-4b95-805b-5a324fb4f7fc",
   "metadata": {},
   "source": [
    "### This seed was the problem at first in old versions and there was only generator and all codes and all programmers used just one generator\n",
    "### In new random version : to work with those generators , we create a seperated instance. Giving seed a value is optional"
   ]
  },
  {
   "cell_type": "code",
   "execution_count": 94,
   "id": "0d5cbff9-1604-4b3b-bc9e-fce96ab5f1b2",
   "metadata": {},
   "outputs": [],
   "source": [
    "# In old versions :\n",
    "np.random.seed(1234)\n",
    "# This seed affected the main core and caused a big mess in other's code which \n",
    "# were generating random values and if someone used a seed , that seed was being over-written for all users's seed"
   ]
  },
  {
   "cell_type": "code",
   "execution_count": 95,
   "id": "c3526028-ae41-4dc0-8a3a-2e70adf84fd3",
   "metadata": {},
   "outputs": [],
   "source": [
    "# But now we don't have this problem in new versions , each time we want to use\n",
    "# random, we take an unused generator from numpy and we make an instance from it"
   ]
  },
  {
   "cell_type": "code",
   "execution_count": 96,
   "id": "1bcac899-7a6a-4c04-a201-928dc7cccff6",
   "metadata": {},
   "outputs": [
    {
     "data": {
      "text/plain": [
       "0.013888803163718877"
      ]
     },
     "execution_count": 96,
     "metadata": {},
     "output_type": "execute_result"
    }
   ],
   "source": [
    "# Create random float numbers between 0 and 1\n",
    "# If you don't send anything it gives a float , but you can define maximum or minimum as well\n",
    "rng.random()"
   ]
  },
  {
   "cell_type": "code",
   "execution_count": 97,
   "id": "da40784c-a045-48cc-bc35-5c45143c8790",
   "metadata": {},
   "outputs": [
    {
     "data": {
      "text/plain": [
       "array([0.99407568, 0.07820303])"
      ]
     },
     "execution_count": 97,
     "metadata": {},
     "output_type": "execute_result"
    }
   ],
   "source": [
    "# This gives us two random float numbers\n",
    "rng.random(2)"
   ]
  },
  {
   "cell_type": "code",
   "execution_count": 99,
   "id": "144be970-fcbe-4484-806e-d596a90f083b",
   "metadata": {},
   "outputs": [
    {
     "data": {
      "text/plain": [
       "array([[0.68937121, 0.36416215, 0.76255199],\n",
       "       [0.05111414, 0.52358424, 0.04409299]])"
      ]
     },
     "execution_count": 99,
     "metadata": {},
     "output_type": "execute_result"
    }
   ],
   "source": [
    "# Even size or dimentions with tuples can be given\n",
    "# 2 rows and 3 columns of floats\n",
    "# Array with 2 rows and 3 columns of floats\n",
    "rng.random((2,3))"
   ]
  },
  {
   "cell_type": "code",
   "execution_count": 100,
   "id": "305fd3e1-e357-4695-99e9-3bed250035f0",
   "metadata": {},
   "outputs": [
    {
     "data": {
      "text/plain": [
       "array([[[0.79115678, 0.49251173, 0.48494567, 0.15683208],\n",
       "        [0.20842799, 0.32917676, 0.34525254, 0.73538511],\n",
       "        [0.69214324, 0.54779718, 0.58227391, 0.93192593]],\n",
       "\n",
       "       [[0.76247175, 0.38448445, 0.50856307, 0.83797158],\n",
       "        [0.5257431 , 0.15446164, 0.94709127, 0.79679337],\n",
       "        [0.94387036, 0.87515999, 0.71327235, 0.25504393]]])"
      ]
     },
     "execution_count": 100,
     "metadata": {},
     "output_type": "execute_result"
    }
   ],
   "source": [
    "# Or nested array :\n",
    "# We have two rows and each one has 3 rows and 4 columns\n",
    "# It has dtype=float64 by default , but it can be changed\n",
    "rng.random((2,3,4))"
   ]
  },
  {
   "cell_type": "code",
   "execution_count": 104,
   "id": "2cf4390f-a0a9-4e35-8ab9-75e6d799d714",
   "metadata": {},
   "outputs": [
    {
     "data": {
      "text/plain": [
       "np.int64(5)"
      ]
     },
     "execution_count": 104,
     "metadata": {},
     "output_type": "execute_result"
    }
   ],
   "source": [
    "# .choice(a) takes an array and from that array return its elements randomly\n",
    "rng.choice([1,2,3,4,5,6])"
   ]
  },
  {
   "cell_type": "code",
   "execution_count": 105,
   "id": "b5c350e4-7c81-4606-be46-0d0c9d59d62e",
   "metadata": {},
   "outputs": [
    {
     "data": {
      "text/plain": [
       "array([[6, 1],\n",
       "       [6, 1]])"
      ]
     },
     "execution_count": 105,
     "metadata": {},
     "output_type": "execute_result"
    }
   ],
   "source": [
    "# You can even give the size of returned value\n",
    "# (a,b) > a row(s) and b column(s)\n",
    "rng.choice([1,2,3,4,5,6],size=(2,2))"
   ]
  },
  {
   "cell_type": "code",
   "execution_count": 106,
   "id": "b792d363-5b94-4554-97fb-725378f8c5ca",
   "metadata": {},
   "outputs": [
    {
     "data": {
      "text/plain": [
       "array([[5, 5, 4, 6],\n",
       "       [6, 6, 2, 5],\n",
       "       [5, 3, 1, 1]])"
      ]
     },
     "execution_count": 106,
     "metadata": {},
     "output_type": "execute_result"
    }
   ],
   "source": [
    "# It has replace parameter which is True by default\n",
    "rng.choice([1,2,3,4,5,6],size=(3,4))\n",
    "# We have 12 numbers here but in the original array we have 6 numbers\n",
    "# This is what replace does , and it duplicates some values to fulfill the given size with limited data"
   ]
  },
  {
   "cell_type": "code",
   "execution_count": 107,
   "id": "11c3d534-0787-45ae-b83b-78e3f9f12492",
   "metadata": {},
   "outputs": [
    {
     "ename": "ValueError",
     "evalue": "Cannot take a larger sample than population when replace is False",
     "output_type": "error",
     "traceback": [
      "\u001b[31m---------------------------------------------------------------------------\u001b[39m",
      "\u001b[31mValueError\u001b[39m                                Traceback (most recent call last)",
      "\u001b[36mCell\u001b[39m\u001b[36m \u001b[39m\u001b[32mIn[107]\u001b[39m\u001b[32m, line 2\u001b[39m\n\u001b[32m      1\u001b[39m \u001b[38;5;66;03m# What happens if we set replace as False ?\u001b[39;00m\n\u001b[32m----> \u001b[39m\u001b[32m2\u001b[39m \u001b[43mrng\u001b[49m\u001b[43m.\u001b[49m\u001b[43mchoice\u001b[49m\u001b[43m(\u001b[49m\u001b[43m[\u001b[49m\u001b[32;43m1\u001b[39;49m\u001b[43m,\u001b[49m\u001b[32;43m2\u001b[39;49m\u001b[43m,\u001b[49m\u001b[32;43m3\u001b[39;49m\u001b[43m,\u001b[49m\u001b[32;43m4\u001b[39;49m\u001b[43m,\u001b[49m\u001b[32;43m5\u001b[39;49m\u001b[43m,\u001b[49m\u001b[32;43m6\u001b[39;49m\u001b[43m]\u001b[49m\u001b[43m,\u001b[49m\u001b[43msize\u001b[49m\u001b[43m=\u001b[49m\u001b[43m(\u001b[49m\u001b[32;43m3\u001b[39;49m\u001b[43m,\u001b[49m\u001b[32;43m4\u001b[39;49m\u001b[43m)\u001b[49m\u001b[43m,\u001b[49m\u001b[43mreplace\u001b[49m\u001b[43m=\u001b[49m\u001b[38;5;28;43;01mFalse\u001b[39;49;00m\u001b[43m)\u001b[49m\n\u001b[32m      3\u001b[39m \u001b[38;5;66;03m# It returns an error because the size and the number of total values of original array are not the same\u001b[39;00m\n\u001b[32m      4\u001b[39m \u001b[38;5;66;03m# We have 6 numbers but we want 3 x 4 = 12 numbers\u001b[39;00m\n",
      "\u001b[36mFile \u001b[39m\u001b[32mnumpy/random/_generator.pyx:922\u001b[39m, in \u001b[36mnumpy.random._generator.Generator.choice\u001b[39m\u001b[34m()\u001b[39m\n",
      "\u001b[31mValueError\u001b[39m: Cannot take a larger sample than population when replace is False"
     ]
    }
   ],
   "source": [
    "# What happens if we set replace as False ?\n",
    "rng.choice([1,2,3,4,5,6],size=(3,4),replace=False)\n",
    "# It returns an error because the size and the number of total values of original array are not the same\n",
    "# We have 6 numbers but we want 3 x 4 = 12 numbers"
   ]
  },
  {
   "cell_type": "code",
   "execution_count": 109,
   "id": "adab10c8-38f6-43b7-a383-c9955bade74c",
   "metadata": {},
   "outputs": [
    {
     "data": {
      "text/plain": [
       "array([[1, 2],\n",
       "       [4, 3],\n",
       "       [5, 6]])"
      ]
     },
     "execution_count": 109,
     "metadata": {},
     "output_type": "execute_result"
    }
   ],
   "source": [
    "# But this works well. 6 numbers in original array = 3 x 2 as size\n",
    "# If you set replace False, choose the size carefully > the multiple of rows and columns must be equal or less than the total number of elements\n",
    "rng.choice([1,2,3,4,5,6],size=(3,2),replace=False)"
   ]
  },
  {
   "cell_type": "code",
   "execution_count": 113,
   "id": "c589ecd6-d9d1-4f01-bbf9-a2e5febf59d1",
   "metadata": {},
   "outputs": [
    {
     "data": {
      "text/plain": [
       "array([[4, 4],\n",
       "       [4, 4]])"
      ]
     },
     "execution_count": 113,
     "metadata": {},
     "output_type": "execute_result"
    }
   ],
   "source": [
    "# You can even define the chance of selection for each element\n",
    "# the sum of chances must be 1 ,these numbers are float\n",
    "# You should pick a chance for each element and one by one in order\n",
    "# 0 means no chance and 1 means 100 chance\n",
    "rng.choice([1,2,3,4,5,6],size=(2,2),p=[0,0,0,1,0,0])\n",
    "# This returns only 4 because the chance of others is 0"
   ]
  },
  {
   "cell_type": "code",
   "execution_count": 114,
   "id": "4457b455-f9bc-4390-bab1-5c9d44c97c4e",
   "metadata": {},
   "outputs": [
    {
     "data": {
      "text/plain": [
       "b'\\xfajf'"
      ]
     },
     "execution_count": 114,
     "metadata": {},
     "output_type": "execute_result"
    }
   ],
   "source": [
    "# This returns random bytes and just takes a length as its parameter\n",
    "# 3-btye value will be returned\n",
    "rng.bytes(3)"
   ]
  },
  {
   "cell_type": "markdown",
   "id": "036b3364-b6af-4b9e-a836-b8d63ba51f82",
   "metadata": {},
   "source": [
    "### Shuffle vs Permutation"
   ]
  },
  {
   "cell_type": "code",
   "execution_count": 154,
   "id": "53f46b3e-7c00-409c-87d1-5410bcaed91b",
   "metadata": {},
   "outputs": [
    {
     "data": {
      "text/plain": [
       "array([[1, 2, 3],\n",
       "       [4, 5, 6]])"
      ]
     },
     "execution_count": 154,
     "metadata": {},
     "output_type": "execute_result"
    }
   ],
   "source": [
    "# .shuffle() takes an array and rearrange its elements from the beginning\n",
    "# And it changes the array and return nothing but previous methods return a new array\n",
    "# By default axis=0 and it means that it just shuffles the rows\n",
    "# axis=1 > shuffle thecolumns\n",
    "# to return the array do this :\n",
    "array_one = np.array(\n",
    "    [\n",
    "        [1,2,3],\n",
    "        [4,5,6]\n",
    "    ]\n",
    ")\n",
    "rng.shuffle(array_one)\n",
    "array_one"
   ]
  },
  {
   "cell_type": "code",
   "execution_count": 153,
   "id": "c21d32b4-ffc7-41cb-a952-f18911406b7f",
   "metadata": {},
   "outputs": [
    {
     "data": {
      "text/plain": [
       "array([[1, 2, 3],\n",
       "       [4, 5, 6]])"
      ]
     },
     "execution_count": 153,
     "metadata": {},
     "output_type": "execute_result"
    }
   ],
   "source": [
    "array_two = np.array(\n",
    "    [\n",
    "        [1,2,3],\n",
    "        [4,5,6]\n",
    "    ]\n",
    ")\n",
    "rng.shuffle(array_one,axis=1)\n",
    "array_two"
   ]
  },
  {
   "cell_type": "code",
   "execution_count": 158,
   "id": "055b1e80-bcbf-43d0-9ed9-637f34bdf11c",
   "metadata": {},
   "outputs": [
    {
     "name": "stdout",
     "output_type": "stream",
     "text": [
      "[[1 2 3]\n",
      " [4 5 6]]\n",
      "--------------\n",
      "[[1 2 3]\n",
      " [4 5 6]]\n"
     ]
    }
   ],
   "source": [
    "# permutation > return a new array and do not chanhe the original array\n",
    "# But like shuffle rearrange the elements\n",
    "array_three = np.array(\n",
    "    [\n",
    "        [1,2,3],\n",
    "        [4,5,6]\n",
    "    ]\n",
    ")\n",
    "print(rng.permutation(array_three))\n",
    "print('--------------')\n",
    "print(array_three)"
   ]
  }
 ],
 "metadata": {
  "kernelspec": {
   "display_name": "Python 3 (ipykernel)",
   "language": "python",
   "name": "python3"
  },
  "language_info": {
   "codemirror_mode": {
    "name": "ipython",
    "version": 3
   },
   "file_extension": ".py",
   "mimetype": "text/x-python",
   "name": "python",
   "nbconvert_exporter": "python",
   "pygments_lexer": "ipython3",
   "version": "3.13.7"
  }
 },
 "nbformat": 4,
 "nbformat_minor": 5
}
