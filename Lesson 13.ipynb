{
 "cells": [
  {
   "cell_type": "markdown",
   "id": "ab27b55d-7b8c-4783-81cf-d30561762a3d",
   "metadata": {},
   "source": [
    "# numpy.meshgrid() method"
   ]
  },
  {
   "cell_type": "code",
   "execution_count": 29,
   "id": "07c0b804-f2ba-471a-acd7-1cedaa2cb018",
   "metadata": {},
   "outputs": [
    {
     "data": {
      "image/png": "[encoded data removed]",
      "text/plain": [
       "<Figure size 640x480 with 1 Axes>"
      ]
     },
     "metadata": {},
     "output_type": "display_data"
    }
   ],
   "source": [
    "# np.meshgrid() takes some(no limite to send arrays) 1D-arrays and combine their elements and return a new matrix\n",
    "# The more array you send , the dimension of finall matrix gets larger\n",
    "# If you send n 1D-arrays , it returns a n-dimension array\n",
    "import matplotlib.pyplot as plt\n",
    "import numpy as np\n",
    "# Define tow arrays and combine their elements with each other\n",
    "# (x,y) > e.g : (1,5) , (2,6) , ...\n",
    "# x-axis > horizontal\n",
    "# y-axis > vertical\n",
    "x = [1,2,3,4]\n",
    "y = [5,6,7,8]\n",
    "# To show a plot : plt.plot(x,y,marker,color,linestyle)\n",
    "# Draw x against y without a linestyle is linestyle='none'\n",
    "plt.plot(x,y,marker='o',color='k',linestyle='none')\n",
    "# Just show the given number in both arrays on axis\n",
    "plt.xticks(x)\n",
    "plt.yticks(y)\n",
    "plt.xlabel('X')\n",
    "plt.ylabel('Y')\n",
    "plt.show()"
   ]
  },
  {
   "cell_type": "code",
   "execution_count": 30,
   "id": "4a1c702c-cacf-4d25-845f-ea8483526ac7",
   "metadata": {},
   "outputs": [
    {
     "data": {
      "image/png": "[encoded data removed]",
      "text/plain": [
       "<Figure size 640x480 with 1 Axes>"
      ]
     },
     "metadata": {},
     "output_type": "display_data"
    }
   ],
   "source": [
    "# To have all combinations of elements of those array , you must use meshgrid method\n",
    "# x has 4 elements such as y , so : 4 x 4 = 16 combinations\n",
    "# If you send n arrays , it returns n arrays\n",
    "# Because we have two arrays so : xx is x-axis and yy is y-axis\n",
    "# Combine all members of x with all members of y\n",
    "xx , yy = np.meshgrid(x,y)\n",
    "plt.plot(xx,yy,marker='o',color='k',linestyle='none')\n",
    "plt.xticks(x)\n",
    "plt.yticks(y)\n",
    "plt.show()"
   ]
  },
  {
   "cell_type": "code",
   "execution_count": 32,
   "id": "6dd3b690-a36a-460d-b6d1-a5e098c68a3c",
   "metadata": {},
   "outputs": [
    {
     "name": "stdout",
     "output_type": "stream",
     "text": [
      "[[1 2 3 4]\n",
      " [1 2 3 4]\n",
      " [1 2 3 4]\n",
      " [1 2 3 4]]\n",
      "xx has 2 dimensions\n"
     ]
    }
   ],
   "source": [
    "print(xx)\n",
    "print(f'xx has {xx.ndim} dimensions')"
   ]
  },
  {
   "cell_type": "code",
   "execution_count": 33,
   "id": "c56ad714-3def-43b1-829f-47e0af893c4e",
   "metadata": {},
   "outputs": [
    {
     "name": "stdout",
     "output_type": "stream",
     "text": [
      "[[5 5 5 5]\n",
      " [6 6 6 6]\n",
      " [7 7 7 7]\n",
      " [8 8 8 8]]\n",
      "xx has 2 dimensions\n"
     ]
    }
   ],
   "source": [
    "print(yy)\n",
    "print(f'xx has {yy.ndim} dimensions')"
   ]
  }
 ],
 "metadata": {
  "kernelspec": {
   "display_name": "Python 3 (ipykernel)",
   "language": "python",
   "name": "python3"
  },
  "language_info": {
   "codemirror_mode": {
    "name": "ipython",
    "version": 3
   },
   "file_extension": ".py",
   "mimetype": "text/x-python",
   "name": "python",
   "nbconvert_exporter": "python",
   "pygments_lexer": "ipython3",
   "version": "3.13.7"
  }
 },
 "nbformat": 4,
 "nbformat_minor": 5
}
