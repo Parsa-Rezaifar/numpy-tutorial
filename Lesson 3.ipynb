{
 "cells": [
  {
   "cell_type": "markdown",
   "id": "c5d4db77-a5d4-4d4f-bdb5-a421b7d63e4f",
   "metadata": {},
   "source": [
    "### Methods(part 2)"
   ]
  },
  {
   "cell_type": "code",
   "execution_count": 1,
   "id": "d67fd5f6-e78d-4928-90fc-5174800bb047",
   "metadata": {},
   "outputs": [],
   "source": [
    "import numpy as np"
   ]
  },
  {
   "cell_type": "code",
   "execution_count": 7,
   "id": "be9b236a-f6b6-4154-93c9-439dc27abe12",
   "metadata": {},
   "outputs": [],
   "source": [
    "#1 - .array() > most useful\n",
    "# take a python list > numpy array\n",
    "array_one = np.array(\n",
    "    [1,2,3]\n",
    ")"
   ]
  },
  {
   "cell_type": "code",
   "execution_count": 8,
   "id": "0196f01a-ad93-4f32-913a-1a2d8623cc43",
   "metadata": {},
   "outputs": [
    {
     "data": {
      "text/plain": [
       "array([1, 2, 3])"
      ]
     },
     "execution_count": 8,
     "metadata": {},
     "output_type": "execute_result"
    }
   ],
   "source": [
    "array_one"
   ]
  },
  {
   "cell_type": "code",
   "execution_count": 12,
   "id": "8d715db3-db6f-4fb7-b410-71a928117c5b",
   "metadata": {},
   "outputs": [],
   "source": [
    "# some methods > self filling data > array\n",
    "#2 - .empty() > take shape > (row,colunm) and dtype > array > 2d\n",
    "# dtype default > float64 > dtype = x , just x\n",
    "array_two = np.empty((3,4))"
   ]
  },
  {
   "cell_type": "code",
   "execution_count": 10,
   "id": "1168eb42-aced-405a-b63d-c074e9f0aaf8",
   "metadata": {},
   "outputs": [
    {
     "data": {
      "text/plain": [
       "array([[8.18157066e-312, 3.16202013e-322, 0.00000000e+000,\n",
       "        0.00000000e+000],\n",
       "       [1.11260619e-306, 5.40495561e-038, 3.11352059e-032,\n",
       "        1.53513189e-075],\n",
       "       [1.93443297e-076, 1.15345030e-071, 1.20080587e-071,\n",
       "        4.42245018e-062]])"
      ]
     },
     "execution_count": 10,
     "metadata": {},
     "output_type": "execute_result"
    }
   ],
   "source": [
    "array_two"
   ]
  },
  {
   "cell_type": "code",
   "execution_count": 11,
   "id": "dc916a55-cae9-4d09-bd2e-0d2bd337c49f",
   "metadata": {},
   "outputs": [
    {
     "data": {
      "text/plain": [
       "2"
      ]
     },
     "execution_count": 11,
     "metadata": {},
     "output_type": "execute_result"
    }
   ],
   "source": [
    "array_two.ndim"
   ]
  },
  {
   "cell_type": "code",
   "execution_count": 18,
   "id": "cffff2f2-f4e9-4057-b96e-98c87f851ae7",
   "metadata": {},
   "outputs": [],
   "source": [
    "array_three = np.empty((3,4),dtype=np.uint8) # just + and 0"
   ]
  },
  {
   "cell_type": "code",
   "execution_count": 14,
   "id": "89a5c032-7b0c-4c38-a34f-68a3326c557d",
   "metadata": {},
   "outputs": [
    {
     "data": {
      "text/plain": [
       "array([[1, 1, 0, 0],\n",
       "       [1, 1, 1, 1],\n",
       "       [1, 1, 1, 1]], dtype=uint8)"
      ]
     },
     "execution_count": 14,
     "metadata": {},
     "output_type": "execute_result"
    }
   ],
   "source": [
    "array_three"
   ]
  },
  {
   "cell_type": "code",
   "execution_count": 17,
   "id": "10d3e7db-63fd-4070-957e-c174f510e45f",
   "metadata": {},
   "outputs": [],
   "source": [
    "array_four = np.empty((3,4),dtype=np.int8) # - and + and 0"
   ]
  },
  {
   "cell_type": "code",
   "execution_count": 16,
   "id": "bc34eb6e-532c-4c3a-864a-50ac97b93a19",
   "metadata": {},
   "outputs": [
    {
     "data": {
      "text/plain": [
       "array([[  48,    8,   78, -113],\n",
       "       [-127,    1,    0,    0],\n",
       "       [   0,    0,    0,    0]], dtype=int8)"
      ]
     },
     "execution_count": 16,
     "metadata": {},
     "output_type": "execute_result"
    }
   ],
   "source": [
    "array_four"
   ]
  },
  {
   "cell_type": "code",
   "execution_count": 19,
   "id": "3c0e1668-eaca-4d3b-8a42-4b40655b5bab",
   "metadata": {},
   "outputs": [],
   "source": [
    "# like method > take a prototpye and create an array based on that"
   ]
  },
  {
   "cell_type": "code",
   "execution_count": 77,
   "id": "78ed6a13-19fe-4717-815b-f0775e40fc0d",
   "metadata": {},
   "outputs": [
    {
     "data": {
      "text/plain": [
       "array([[-1890711504,         385,           0],\n",
       "       [          0,      131074, -2147483648]])"
      ]
     },
     "execution_count": 77,
     "metadata": {},
     "output_type": "execute_result"
    }
   ],
   "source": [
    "# prototype > create arrays like this\n",
    "array_five = ([1,2,3],[4,5,6])\n",
    "# You can put + and - data in prototype\n",
    "# if all + > sempty_like() > just + but also - > in _like both + and -\n",
    "# create prototype without methods :\n",
    "# var_name = ((data)) , [[data]] ([data]) , [(data)] >>> all 2D\n",
    "# if just one () or [] > 1D\n",
    "# nested () or [] > more axises(dimentions)\n",
    "# no givin shape > create as shape of prototype\n",
    "# you can change the shape\n",
    "array_six = np.empty_like(array_five)\n",
    "array_six"
   ]
  },
  {
   "cell_type": "code",
   "execution_count": 78,
   "id": "9e2dc2cf-ca0c-41af-94c1-588f631ea685",
   "metadata": {},
   "outputs": [
    {
     "data": {
      "text/plain": [
       "array([[-1891166224,         385],\n",
       "       [          0,           0],\n",
       "       [          1,  1629516911]])"
      ]
     },
     "execution_count": 78,
     "metadata": {},
     "output_type": "execute_result"
    }
   ],
   "source": [
    "# numner of elements in prototype > fit in new shape\n",
    "array_seven = np.empty_like(array_five,shape=(3,2))\n",
    "array_seven"
   ]
  },
  {
   "cell_type": "code",
   "execution_count": 83,
   "id": "5e554485-11f6-433a-b4d3-84450c799a29",
   "metadata": {},
   "outputs": [],
   "source": [
    "# .eye() > 2D > main dimeter(\\) is 1 and else where is 0 > till the shape is square\n",
    "# not square > last colunm al zero\n",
    "# n > number of rows(required)\n",
    "# m > number of colunms(optional) > if not > will pick n as m\n",
    "# k < where to start put 1 > default index=0,0(because is 2d) > move forward in order of indexing\n",
    "array_eight = np.eye(4)"
   ]
  },
  {
   "cell_type": "code",
   "execution_count": 80,
   "id": "af873706-64e1-4887-85a2-2c7f5752ace8",
   "metadata": {},
   "outputs": [
    {
     "data": {
      "text/plain": [
       "array([[1., 0., 0., 0.],\n",
       "       [0., 1., 0., 0.],\n",
       "       [0., 0., 1., 0.],\n",
       "       [0., 0., 0., 1.]])"
      ]
     },
     "execution_count": 80,
     "metadata": {},
     "output_type": "execute_result"
    }
   ],
   "source": [
    "array_eight"
   ]
  },
  {
   "cell_type": "code",
   "execution_count": 82,
   "id": "38f5ac55-8dfc-4481-84ad-90f881c0a597",
   "metadata": {},
   "outputs": [
    {
     "data": {
      "text/plain": [
       "array([[1., 0., 0., 0., 0.],\n",
       "       [0., 1., 0., 0., 0.],\n",
       "       [0., 0., 1., 0., 0.],\n",
       "       [0., 0., 0., 1., 0.]])"
      ]
     },
     "execution_count": 82,
     "metadata": {},
     "output_type": "execute_result"
    }
   ],
   "source": [
    "array_nine = np.eye(4,5)\n",
    "array_nine"
   ]
  },
  {
   "cell_type": "code",
   "execution_count": 87,
   "id": "e353281e-18c2-4a7e-ab88-65068b8cc89c",
   "metadata": {},
   "outputs": [
    {
     "data": {
      "text/plain": [
       "array([[0., 1., 0., 0., 0.],\n",
       "       [0., 0., 1., 0., 0.],\n",
       "       [0., 0., 0., 1., 0.],\n",
       "       [0., 0., 0., 0., 1.]])"
      ]
     },
     "execution_count": 87,
     "metadata": {},
     "output_type": "execute_result"
    }
   ],
   "source": [
    "array_ten = np.eye(4,5,1)\n",
    "array_ten"
   ]
  },
  {
   "cell_type": "code",
   "execution_count": 88,
   "id": "b7433c92-bd41-4b50-878c-6dda4efda0e9",
   "metadata": {},
   "outputs": [
    {
     "data": {
      "text/plain": [
       "array([[0., 0., 1., 0., 0.],\n",
       "       [0., 0., 0., 1., 0.],\n",
       "       [0., 0., 0., 0., 1.],\n",
       "       [0., 0., 0., 0., 0.]])"
      ]
     },
     "execution_count": 88,
     "metadata": {},
     "output_type": "execute_result"
    }
   ],
   "source": [
    "array_eleven = np.eye(4,5,2)\n",
    "array_eleven"
   ]
  },
  {
   "cell_type": "code",
   "execution_count": 96,
   "id": "f892dfb0-a25d-4caa-afde-06e69e3c970a",
   "metadata": {},
   "outputs": [
    {
     "data": {
      "text/plain": [
       "array([[0., 0., 0., 0., 0.],\n",
       "       [1., 0., 0., 0., 0.],\n",
       "       [0., 1., 0., 0., 0.],\n",
       "       [0., 0., 1., 0., 0.]])"
      ]
     },
     "execution_count": 96,
     "metadata": {},
     "output_type": "execute_result"
    }
   ],
   "source": [
    "array_twelve = np.eye(4,5,-1)\n",
    "array_twelve\n",
    "# dimeter 1\n",
    "# start from <= -1 >>>> one row below at index 0"
   ]
  },
  {
   "cell_type": "code",
   "execution_count": 100,
   "id": "16b15865-3063-4d7a-a555-dc6156000b5b",
   "metadata": {},
   "outputs": [
    {
     "data": {
      "text/plain": [
       "array([[1., 0., 0., 0.],\n",
       "       [0., 1., 0., 0.],\n",
       "       [0., 0., 1., 0.],\n",
       "       [0., 0., 0., 1.]])"
      ]
     },
     "execution_count": 100,
     "metadata": {},
     "output_type": "execute_result"
    }
   ],
   "source": [
    "# is similar to > .eye() > but always suqare\n",
    "# not takeig colunm just row (n)\n",
    "# number of rows and colunm = n\n",
    "# you can chage dtype\n",
    "array_thirten = np.identity(4)\n",
    "array_thirten"
   ]
  },
  {
   "cell_type": "code",
   "execution_count": 103,
   "id": "392c9d38-5cdd-450a-befd-4c5f8c69c573",
   "metadata": {},
   "outputs": [
    {
     "data": {
      "text/plain": [
       "array([[1., 1., 1.],\n",
       "       [1., 1., 1.]])"
      ]
     },
     "execution_count": 103,
     "metadata": {},
     "output_type": "execute_result"
    }
   ],
   "source": [
    "# .ones() > all 1\n",
    "# take dtype and shape > create base on shape\n",
    "array_fourteen = np.ones((2,3))\n",
    "array_fourteen"
   ]
  },
  {
   "cell_type": "code",
   "execution_count": 106,
   "id": "a21f848c-cf0f-45de-bd86-e28b84dad8ae",
   "metadata": {},
   "outputs": [
    {
     "data": {
      "text/plain": [
       "array([[[1., 1., 1., 1.],\n",
       "        [1., 1., 1., 1.],\n",
       "        [1., 1., 1., 1.]],\n",
       "\n",
       "       [[1., 1., 1., 1.],\n",
       "        [1., 1., 1., 1.],\n",
       "        [1., 1., 1., 1.]]])"
      ]
     },
     "execution_count": 106,
     "metadata": {},
     "output_type": "execute_result"
    }
   ],
   "source": [
    "array_fifteen = np.ones((2,3,4))\n",
    "array_fifteen\n",
    "# we have .ones_like()"
   ]
  },
  {
   "cell_type": "code",
   "execution_count": 109,
   "id": "1789b59c-11b9-48bc-b57c-8395414f14eb",
   "metadata": {},
   "outputs": [
    {
     "data": {
      "text/plain": [
       "array([[0., 0., 0.],\n",
       "       [0., 0., 0.]])"
      ]
     },
     "execution_count": 109,
     "metadata": {},
     "output_type": "execute_result"
    }
   ],
   "source": [
    "# all 0\n",
    "# take dtype and shape > create base on shape\n",
    "array_sixteen = np.zeros((2,3))\n",
    "array_sixteen\n",
    "# we have .zeros_like()"
   ]
  },
  {
   "cell_type": "code",
   "execution_count": 110,
   "id": "cdf03bae-5be7-49ee-b171-8636ea5a56d8",
   "metadata": {},
   "outputs": [
    {
     "data": {
      "text/plain": [
       "array([[8, 8, 8],\n",
       "       [8, 8, 8],\n",
       "       [8, 8, 8]])"
      ]
     },
     "execution_count": 110,
     "metadata": {},
     "output_type": "execute_result"
    }
   ],
   "source": [
    "# .full() > fill array by our data\n",
    "# take dtype and shape and fill value > create base on shape\n",
    "array_seventeen = np.full((3,3),8)\n",
    "array_seventeen\n",
    "# we have .full_like()"
   ]
  },
  {
   "cell_type": "code",
   "execution_count": 115,
   "id": "da5d5d5c-3d2f-43c0-b546-8051e40ea532",
   "metadata": {},
   "outputs": [
    {
     "data": {
      "text/plain": [
       "array([ 0,  1,  2,  3,  4,  5,  6,  7,  8,  9, 10, 11, 12, 13, 14, 15, 16,\n",
       "       17, 18, 19, 20, 21, 22, 23, 24, 25, 26, 27, 28, 29, 30, 31, 32, 33,\n",
       "       34, 35, 36, 37, 38, 39, 40, 41, 42, 43, 44, 45, 46, 47, 48, 49, 50,\n",
       "       51, 52, 53, 54, 55, 56, 57, 58, 59, 60, 61, 62, 63, 64, 65, 66, 67,\n",
       "       68, 69, 70, 71, 72, 73, 74, 75, 76, 77, 78, 79, 80, 81, 82, 83, 84,\n",
       "       85, 86, 87, 88, 89])"
      ]
     },
     "execution_count": 115,
     "metadata": {},
     "output_type": "execute_result"
    }
   ],
   "source": [
    "# useful methof\n",
    "# .arange()\n",
    "# take start and stop > array > you can give step our dtype\n",
    "# stope is required and others are optional\n",
    "# just stop > from 0 to stop -1 > (stop) or ((stop))\n",
    "array_eighteen = np.arange(90)\n",
    "array_eighteen"
   ]
  },
  {
   "cell_type": "code",
   "execution_count": 119,
   "id": "79535cc7-8eab-4867-80d4-12c3e9e26bab",
   "metadata": {},
   "outputs": [
    {
     "data": {
      "text/plain": [
       "array([10, 11, 12, 13, 14, 15, 16, 17, 18, 19, 20, 21, 22, 23, 24, 25, 26,\n",
       "       27, 28, 29, 30, 31, 32, 33, 34, 35, 36, 37, 38, 39, 40, 41, 42, 43,\n",
       "       44, 45, 46, 47, 48, 49, 50, 51, 52, 53, 54, 55, 56, 57, 58, 59, 60,\n",
       "       61, 62, 63, 64, 65, 66, 67, 68, 69, 70, 71, 72, 73, 74, 75, 76, 77,\n",
       "       78, 79, 80, 81, 82, 83, 84, 85, 86, 87, 88, 89])"
      ]
     },
     "execution_count": 119,
     "metadata": {},
     "output_type": "execute_result"
    }
   ],
   "source": [
    "# with start > (start,stop,step)\n",
    "array_ninteen = np.arange(10,90)\n",
    "array_ninteen\n",
    "# change structure > use .reshape"
   ]
  },
  {
   "cell_type": "code",
   "execution_count": 125,
   "id": "b22dbc40-651a-4079-a34e-faf542122135",
   "metadata": {},
   "outputs": [
    {
     "data": {
      "text/plain": [
       "array([[10, 11, 12, 13, 14, 15, 16, 17, 18, 19],\n",
       "       [20, 21, 22, 23, 24, 25, 26, 27, 28, 29],\n",
       "       [30, 31, 32, 33, 34, 35, 36, 37, 38, 39],\n",
       "       [40, 41, 42, 43, 44, 45, 46, 47, 48, 49],\n",
       "       [50, 51, 52, 53, 54, 55, 56, 57, 58, 59],\n",
       "       [60, 61, 62, 63, 64, 65, 66, 67, 68, 69],\n",
       "       [70, 71, 72, 73, 74, 75, 76, 77, 78, 79],\n",
       "       [80, 81, 82, 83, 84, 85, 86, 87, 88, 89]])"
      ]
     },
     "execution_count": 125,
     "metadata": {},
     "output_type": "execute_result"
    }
   ],
   "source": [
    "# pay attention to number of elements > array.size() > fit all elements\n",
    "array_twenty = array_ninteen.reshape((8,10))\n",
    "array_twenty"
   ]
  },
  {
   "cell_type": "code",
   "execution_count": 127,
   "id": "a6b56445-f308-4f7f-bf86-57114daeef91",
   "metadata": {},
   "outputs": [],
   "source": [
    "# np.matrix() > create matrix\n",
    "# not recommended by numpy > use other array creators"
   ]
  }
 ],
 "metadata": {
  "kernelspec": {
   "display_name": "Python 3 (ipykernel)",
   "language": "python",
   "name": "python3"
  },
  "language_info": {
   "codemirror_mode": {
    "name": "ipython",
    "version": 3
   },
   "file_extension": ".py",
   "mimetype": "text/x-python",
   "name": "python",
   "nbconvert_exporter": "python",
   "pygments_lexer": "ipython3",
   "version": "3.13.7"
  }
 },
 "nbformat": 4,
 "nbformat_minor": 5
}
