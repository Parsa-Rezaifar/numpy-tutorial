{
 "cells": [
  {
   "cell_type": "markdown",
   "id": "465d4377-1b16-4c8c-8bb0-6568bf619e09",
   "metadata": {},
   "source": [
    "# Universal functions"
   ]
  },
  {
   "cell_type": "code",
   "execution_count": 1,
   "id": "a11e6f9c-3ec0-474d-947e-1291fe8a568d",
   "metadata": {},
   "outputs": [],
   "source": [
    "import numpy as np"
   ]
  },
  {
   "cell_type": "code",
   "execution_count": 55,
   "id": "24895fb1-69ab-4e01-9a0d-98ff250fadaf",
   "metadata": {},
   "outputs": [],
   "source": [
    "# Universal functions > ufuncs > to use vectorization in numpy > run the code in C\n",
    "# Vetorization > happen when numpy wont run our code by python > run in C lang instead\n",
    "# to increase the speed of our (program/operation)\n",
    "# usual work with numpy > array > just have one type data\n",
    "# but list or tuple in python > different data types"
   ]
  },
  {
   "cell_type": "code",
   "execution_count": 11,
   "id": "33faf9dc-2118-4b85-a390-1930ae9038b0",
   "metadata": {},
   "outputs": [],
   "source": [
    "# create array with numpy > all int or all float or all str ... > all from one type\n",
    "array_one = np.array([1,2,3])\n",
    "# python list :\n",
    "list_ = [1,1.2,'parsa',True]\n",
    "# python list and numpy array > operation > different in speed to run\n",
    "# python > dynamic type lang > must to run an operation on elements of a list >\n",
    "# sury all element type one by one then do a process\n",
    "# but in numpy array > all one type data > no need to sury elements one by one and thier\n",
    "# type and do operations directly > give to C lang > incease the speed of operation"
   ]
  },
  {
   "cell_type": "code",
   "execution_count": 12,
   "id": "80faa34d-0825-48ea-9002-3f3c009fdd6d",
   "metadata": {},
   "outputs": [],
   "source": [
    "# Note : in numpy arrays we are not allowed to use different data types and store in\n",
    "# one array > increased speed"
   ]
  },
  {
   "cell_type": "code",
   "execution_count": 138,
   "id": "a3509ac6-71f6-4628-a0fb-7ac7f4733455",
   "metadata": {},
   "outputs": [
    {
     "name": "stdout",
     "output_type": "stream",
     "text": [
      "49995000\n"
     ]
    }
   ],
   "source": [
    "# take an array in python and sum its elements\n",
    "# create an array with arange > 0 to 9999\n",
    "# sum the elements > 1 + 2 + ... + 9999\n",
    "# for in python run this code > low speed >>>\n",
    "# numpy recommendaton > dont use python tools > use vectorization(give the code\n",
    "# to C lang and increase the speed) > use ufuncs(all vectorization will be done by ufuncs)\n",
    "total = 0\n",
    "for i in np.arange(10000) :\n",
    "    total += i    \n",
    "print(total)"
   ]
  },
  {
   "cell_type": "code",
   "execution_count": 23,
   "id": "f012633a-8c72-44f0-a7dd-ccff8a8e1fec",
   "metadata": {},
   "outputs": [],
   "source": [
    "# .add() > plus two arrays\n",
    "# .subtract() > minus to arrays\n",
    "# these are element wise\n",
    "# all logical , comparison operations in numpy > ufuncs > incease speed"
   ]
  },
  {
   "cell_type": "code",
   "execution_count": 136,
   "id": "882a76bd-5f5d-4a31-833c-e69c66541ec6",
   "metadata": {},
   "outputs": [
    {
     "data": {
      "text/plain": [
       "49995000"
      ]
     },
     "execution_count": 136,
     "metadata": {},
     "output_type": "execute_result"
    }
   ],
   "source": [
    "np.sum(np.arange(10000))\n",
    "# will run in C lang > vectorized > inceased speed"
   ]
  },
  {
   "cell_type": "code",
   "execution_count": 27,
   "id": "8cbd45a5-c409-4ac9-b24f-a30c5e9bf651",
   "metadata": {},
   "outputs": [],
   "source": [
    "array_two = np.array([1,2,3])\n",
    "array_three = np.array([4,5,6])"
   ]
  },
  {
   "cell_type": "code",
   "execution_count": 35,
   "id": "d4dddff2-2235-4aca-9cad-270dbbc6b2bd",
   "metadata": {},
   "outputs": [
    {
     "name": "stdout",
     "output_type": "stream",
     "text": [
      "[5 7 9]\n",
      "[5 7 9]\n",
      "[5 7 9]\n"
     ]
    }
   ],
   "source": [
    "# in python(less speed)\n",
    "print(array_two+array_three)\n",
    "# ufuncs > in C(more speed)\n",
    "# np.add() > add two arrays and return the answer(elenment wise)\n",
    "# 1 + 4 , 2 + 5 , 3 + 6\n",
    "print(np.add(array_two,array_three))\n",
    "print(np.add(array_three,array_two))\n",
    "# both same result , different speed"
   ]
  },
  {
   "cell_type": "markdown",
   "id": "ccbca55c-652a-4976-b425-79c527f8b1de",
   "metadata": {},
   "source": [
    "# Methods for unfuncs"
   ]
  },
  {
   "cell_type": "code",
   "execution_count": 41,
   "id": "56cda425-81e1-4d16-9bf5-95db1c3d3b5a",
   "metadata": {},
   "outputs": [
    {
     "data": {
      "text/plain": [
       "6"
      ]
     },
     "execution_count": 41,
     "metadata": {},
     "output_type": "execute_result"
    }
   ],
   "source": [
    "# To change ufuncs behaviour > on one ufunc\n",
    "# ufunc.reduce() > decrease needed dimention for array by one\n",
    "# decrease need arrays to do an operation by 1\n",
    "# not working elemrnt wise\n",
    "# e.g > sum elements of one array > 1 + 2 + 3\n",
    "# np.add(a,b) > is ufunc > need two arrays > array a + array b (element wise / b + a)\n",
    "# np.add.reduce(a) > need one array > not element wise > a + a\n",
    "np.add.reduce(array_two)"
   ]
  },
  {
   "cell_type": "code",
   "execution_count": 44,
   "id": "457f2491-f01e-452b-bd80-c2842667b1f3",
   "metadata": {},
   "outputs": [
    {
     "data": {
      "text/plain": [
       "array([1, 3, 6])"
      ]
     },
     "execution_count": 44,
     "metadata": {},
     "output_type": "execute_result"
    }
   ],
   "source": [
    "# ufunc.accumualte() > do operation on elements one by one and give the results to\n",
    "# next operation and use there\n",
    "# sum to themselves and add the result to next\n",
    "# 1 , 2 , 3 > 1+2 = 3 > 3 + 3 = 6\n",
    "# one element add to itself > that element > 1 + 1 = 1\n",
    "np.add.accumulate(array_two)"
   ]
  },
  {
   "cell_type": "code",
   "execution_count": 52,
   "id": "55b07f5a-f7b8-4077-8202-e0c9e4f8c384",
   "metadata": {},
   "outputs": [
    {
     "data": {
      "text/plain": [
       "array([[5, 6, 7],\n",
       "       [6, 7, 8],\n",
       "       [7, 8, 9]])"
      ]
     },
     "execution_count": 52,
     "metadata": {},
     "output_type": "execute_result"
    }
   ],
   "source": [
    "# ufunc.outer(a,b) > existing elemsnts > as a pair(x,y) > do operations > need two arrays\n",
    "# combination of elements > one elements to all elemnts will be added\n",
    "# 1 + 4 , 1 + 5 , 1 + 6\n",
    "# 2 + 4 , 2 + 5 , 2 + 6\n",
    "# 3 + 4 , 3 + 5 , 3 + 6\n",
    "np.add.outer(array_two,array_three)"
   ]
  }
 ],
 "metadata": {
  "kernelspec": {
   "display_name": "Python 3 (ipykernel)",
   "language": "python",
   "name": "python3"
  },
  "language_info": {
   "codemirror_mode": {
    "name": "ipython",
    "version": 3
   },
   "file_extension": ".py",
   "mimetype": "text/x-python",
   "name": "python",
   "nbconvert_exporter": "python",
   "pygments_lexer": "ipython3",
   "version": "3.13.7"
  }
 },
 "nbformat": 4,
 "nbformat_minor": 5
}
