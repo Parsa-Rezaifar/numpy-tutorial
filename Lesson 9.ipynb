{
 "cells": [
  {
   "cell_type": "markdown",
   "id": "2250a10d-cc80-4c9b-85ef-f0b79892e6b2",
   "metadata": {},
   "source": [
    "# Structured arrays"
   ]
  },
  {
   "cell_type": "code",
   "execution_count": 1,
   "id": "4c1926fb-7f84-438a-a05a-5bced4e92bb6",
   "metadata": {},
   "outputs": [],
   "source": [
    "import numpy as np"
   ]
  },
  {
   "cell_type": "code",
   "execution_count": 5,
   "id": "75d631c4-d9f2-48a7-904e-ecb88b7e373d",
   "metadata": {},
   "outputs": [],
   "source": [
    "# When we want to store different data in one array > store data in different ways\n",
    "# normal arrays : just store one data type > if we store different data types as posssible\n",
    "# as it is < numpy would convert them to eachother > to make all from one type"
   ]
  },
  {
   "cell_type": "code",
   "execution_count": 7,
   "id": "6d3791b6-618d-4e8e-a382-5543c295e90b",
   "metadata": {},
   "outputs": [],
   "source": [
    "# store info users\n",
    "# normal way : create multiple arrays for each info to stoer\n",
    "# usernames :\n",
    "name = np.array(['ali','parsa','mohammad'])\n",
    "# user ages :\n",
    "age = np.array([20,23,19])\n",
    "# problem : in real world because of large number of arrays and elements , it would hard \n",
    "# to find out which element relate to which one > solution : structured array(numpy\n",
    "# wouldnt convert them itself) > differrent ways to create sturctured arrays"
   ]
  },
  {
   "cell_type": "code",
   "execution_count": 19,
   "id": "06963931-0361-4e9d-8a70-951ae5c3d17e",
   "metadata": {},
   "outputs": [
    {
     "data": {
      "text/plain": [
       "array([('parsa', 19, 40.), ('ali', 20, 45.)],\n",
       "      dtype=[('name', '<U10'), ('age', '<i4'), ('weight', '<f4')])"
      ]
     },
     "execution_count": 19,
     "metadata": {},
     "output_type": "execute_result"
    }
   ],
   "source": [
    "# way 1 : create any array\n",
    "# first : send your data in different types > must send data like : [(),(),(),...] or\n",
    "# [()]\n",
    "# second : specify in dtype > ('filed_name/first/sencond/... field','datatype')\n",
    "# like : [()] , [(),(),...]\n",
    "# 'U10' > str\n",
    "# 'i4' > int\n",
    "# 'f4' > float\n",
    "# e,g : 'parsa' > first filed , 19 is second field \n",
    "name_age_weight = np.array([('parsa',19,40.0),('ali',20,45.0)],\n",
    "                          dtype=[('name','U10'),('age','i4'),('weight','f4')])\n",
    "name_age_weight"
   ]
  },
  {
   "cell_type": "code",
   "execution_count": 32,
   "id": "5ffa7aa6-7cbe-4735-8dcd-f786bef816b0",
   "metadata": {},
   "outputs": [
    {
     "data": {
      "text/plain": [
       "('ali', 22, 45.)"
      ]
     },
     "execution_count": 32,
     "metadata": {},
     "output_type": "execute_result"
    }
   ],
   "source": [
    "# create an empty array and give it data all the time : way 2\n",
    "# see index one of array and its contents\n",
    "name_age_weight[1]"
   ]
  },
  {
   "cell_type": "code",
   "execution_count": 28,
   "id": "81b9de29-2553-4fee-83de-4e39f87fccc0",
   "metadata": {},
   "outputs": [
    {
     "data": {
      "text/plain": [
       "array([19, 20])"
      ]
     },
     "execution_count": 28,
     "metadata": {},
     "output_type": "execute_result"
    }
   ],
   "source": [
    "# see the value which are related to filed named 'age'\n",
    "name_age_weight['age']"
   ]
  },
  {
   "cell_type": "code",
   "execution_count": 31,
   "id": "093524aa-9c52-4623-94aa-82f7cb7b7d93",
   "metadata": {},
   "outputs": [],
   "source": [
    "# change all the values with which are related to age\n",
    "name_age_weight['age'] = 22"
   ]
  },
  {
   "cell_type": "code",
   "execution_count": 30,
   "id": "5875e041-3c5f-404e-8968-b80950c4a62b",
   "metadata": {},
   "outputs": [
    {
     "data": {
      "text/plain": [
       "array([('parsa', 22, 40.), ('ali', 22, 45.)],\n",
       "      dtype=[('name', '<U10'), ('age', '<i4'), ('weight', '<f4')])"
      ]
     },
     "execution_count": 30,
     "metadata": {},
     "output_type": "execute_result"
    }
   ],
   "source": [
    "name_age_weight"
   ]
  },
  {
   "cell_type": "code",
   "execution_count": 34,
   "id": "a010d6a0-4749-4802-8767-2db7018d5089",
   "metadata": {},
   "outputs": [
    {
     "name": "stdout",
     "output_type": "stream",
     "text": [
      "['ali' 'parsa' 'mohammad']\n",
      "[20 23 19]\n"
     ]
    }
   ],
   "source": [
    "# have the data and merge them\n",
    "print(name)\n",
    "print(age)"
   ]
  },
  {
   "cell_type": "code",
   "execution_count": 42,
   "id": "c0408a76-88f1-4cf3-a756-0e411f5d3e66",
   "metadata": {},
   "outputs": [
    {
     "data": {
      "text/plain": [
       "array([0., 0., 0.])"
      ]
     },
     "execution_count": 42,
     "metadata": {},
     "output_type": "execute_result"
    }
   ],
   "source": [
    "total_array = np.zeros(3) # create an empty array filled by zero\n",
    "# wht 3 : cause we got 3 elements in name and age array(depened on your array can be changed)\n",
    "total_array"
   ]
  },
  {
   "cell_type": "code",
   "execution_count": 56,
   "id": "154b7b5c-e08f-466f-bcbb-fcfafeb62973",
   "metadata": {},
   "outputs": [
    {
     "data": {
      "text/plain": [
       "array([('', 0), ('', 0), ('', 0)],\n",
       "      dtype=[('name', '<U10'), ('age', '<i4')])"
      ]
     },
     "execution_count": 56,
     "metadata": {},
     "output_type": "execute_result"
    }
   ],
   "source": [
    "# in dtype > specify > how you want your filed be like ?\n",
    "# dtype > a dict > {key:value} > key cant be like array name and they are constant\n",
    "# like : 'names' > fileds , 'formats' > formats will be stored\n",
    "# value > tuple > ('your field name','your filed name',...) > filed name can be \n",
    "# similat to array name or not\n",
    "# 'formats' : () > tuple> use numpy scaler or these :\n",
    "# formats > what kind of data you wnat store / support\n",
    "# each number befor letter = 8 bit\n",
    "# 4 byte > 32 bit\n",
    "# 1 byte > 8 bit\n",
    "# string : 'U' > unicode string > 'Ux' > totla character will be stored : x\n",
    "# if char more than x > wont store the rest > store up to x > not store more than x\n",
    "# store : bytes > 'b' , singed integer > 'i' : 'i4' > i 4 byte = numpy int 32(np.int32) \n",
    "# unsigned integer > 'u' : 'u1' > np.uint8\n",
    "# float > 'f8' > np.int64\n",
    "total_array = np.zeros(3,dtype={'names':('name','age'),'formats':('U10','i4')})\n",
    "# use numpy scalers\n",
    "# total_array = np.zeros(3,dtype={'names':('name','age'),'formats':(tuple(\n",
    "# np.srt_,10),'i4')})\n",
    "# np.str_ > store string > (np.str_,x) > x is max number of chars\n",
    "total_array"
   ]
  },
  {
   "cell_type": "code",
   "execution_count": 61,
   "id": "cad29360-d61f-4cab-bb5c-fdd8d9d90199",
   "metadata": {},
   "outputs": [],
   "source": [
    "# filling array\n",
    "# array_name['filed_name'] = value/array name\n",
    "total_array['name'] = name\n",
    "total_array['age'] = age"
   ]
  },
  {
   "cell_type": "code",
   "execution_count": 62,
   "id": "8d3f5ff5-6697-4203-a84c-b4183e555cdd",
   "metadata": {},
   "outputs": [
    {
     "data": {
      "text/plain": [
       "array([('ali', 20), ('parsa', 23), ('mohammad', 19)],\n",
       "      dtype=[('name', '<U10'), ('age', '<i4')])"
      ]
     },
     "execution_count": 62,
     "metadata": {},
     "output_type": "execute_result"
    }
   ],
   "source": [
    "# merge data together and wont change the data type\n",
    "total_array"
   ]
  },
  {
   "cell_type": "code",
   "execution_count": 58,
   "id": "1cedbe8c-8913-4396-87ce-75b456c18c33",
   "metadata": {},
   "outputs": [],
   "source": [
    "# you can also specify dtype or different data type along side"
   ]
  },
  {
   "cell_type": "code",
   "execution_count": 64,
   "id": "326d32df-3f6b-49d4-b271-4ca4b6b1835b",
   "metadata": {},
   "outputs": [
    {
     "name": "stdout",
     "output_type": "stream",
     "text": [
      "('ali', 20)\n",
      "ali\n",
      "20\n"
     ]
    }
   ],
   "source": [
    "# access data > use indexing\n",
    "print(total_array[0])\n",
    "print(total_array[0][0])\n",
    "print(total_array[0][1])"
   ]
  },
  {
   "cell_type": "code",
   "execution_count": 67,
   "id": "3bc02a08-72fe-401d-99fc-7f4d9929fba3",
   "metadata": {},
   "outputs": [
    {
     "data": {
      "text/plain": [
       "array([('ali', 20), ('parsa', 23)],\n",
       "      dtype=[('name', '<U10'), ('age', '<i4')])"
      ]
     },
     "execution_count": 67,
     "metadata": {},
     "output_type": "execute_result"
    }
   ],
   "source": [
    "# condition in structured array to show data under an specific condition\n",
    "total_array[total_array['age']>=20]"
   ]
  },
  {
   "cell_type": "markdown",
   "id": "9b7c7338-7f70-4129-8098-f940d128bc88",
   "metadata": {},
   "source": [
    "# Record array"
   ]
  },
  {
   "cell_type": "code",
   "execution_count": 69,
   "id": "5cae77af-64b0-4035-a8b1-3a773f637d58",
   "metadata": {},
   "outputs": [],
   "source": [
    "# is the structured array(exactly the same> no difference)\n",
    "# but access fields using attributes instead of index\n",
    "# more comfortable\n",
    "# np.rec.array() > send data in tuple and specify dtypes\n",
    "# data > [()] / [(),(),...]\n",
    "# dtype > [('field_name','data type')]"
   ]
  }
 ],
 "metadata": {
  "kernelspec": {
   "display_name": "Python 3 (ipykernel)",
   "language": "python",
   "name": "python3"
  },
  "language_info": {
   "codemirror_mode": {
    "name": "ipython",
    "version": 3
   },
   "file_extension": ".py",
   "mimetype": "text/x-python",
   "name": "python",
   "nbconvert_exporter": "python",
   "pygments_lexer": "ipython3",
   "version": "3.13.7"
  }
 },
 "nbformat": 4,
 "nbformat_minor": 5
}
