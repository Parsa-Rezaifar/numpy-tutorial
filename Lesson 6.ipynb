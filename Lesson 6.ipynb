{
 "cells": [
  {
   "cell_type": "markdown",
   "id": "02ea0ac3-0a97-48a9-8560-5ce9827de9c1",
   "metadata": {},
   "source": [
    "# Masked arrays"
   ]
  },
  {
   "cell_type": "code",
   "execution_count": 1,
   "id": "954b6d3d-718f-4f70-bb99-78199fa3fda1",
   "metadata": {},
   "outputs": [],
   "source": [
    "import numpy as np\n",
    "# import the module\n",
    "import numpy.ma as ma"
   ]
  },
  {
   "cell_type": "code",
   "execution_count": 6,
   "id": "2a4234a2-e573-4c3b-bec2-f63537bd1ee8",
   "metadata": {},
   "outputs": [],
   "source": [
    "# masked arrays > some elements of array will be masked(covered)\n",
    "# seperated module > numpy.ma\n",
    "# may some elements of data does not exist(missing) or invalid data in it > not operate \n",
    "# with this arrays\n",
    "# for masking we use Booleans > which element we want and which we dont > True & False\n",
    "# False > that element is valid > stay um-masked\n",
    "# True > ''     ''     isnt valid > will be masked"
   ]
  },
  {
   "cell_type": "code",
   "execution_count": 13,
   "id": "adb65ef5-d417-4027-8d4c-1eca19509ec3",
   "metadata": {},
   "outputs": [
    {
     "data": {
      "text/plain": [
       "array([-3, -2, -1,  0,  1,  2,  3,  4])"
      ]
     },
     "execution_count": 13,
     "metadata": {},
     "output_type": "execute_result"
    }
   ],
   "source": [
    "# create array\n",
    "array_one = np.arange(-3,5) # will create a 1D array by default\n",
    "array_one"
   ]
  },
  {
   "cell_type": "code",
   "execution_count": 15,
   "id": "fc2a63b1-66d4-4b63-97e8-63f2c5f8501c",
   "metadata": {},
   "outputs": [
    {
     "data": {
      "text/plain": [
       "array([[ 1.,  2.,  3.],\n",
       "       [ 4., nan,  6.]])"
      ]
     },
     "execution_count": 15,
     "metadata": {},
     "output_type": "execute_result"
    }
   ],
   "source": [
    "array_two = np.array(\n",
    "    [\n",
    "        [1,2,3],\n",
    "        [4,np.nan,6] # .nan > invalid value > not a number(constant in numpy)\n",
    "        # .nan > will convert other values to float\n",
    "        # np.nan > nan\n",
    "    ]\n",
    ")\n",
    "array_two"
   ]
  },
  {
   "cell_type": "code",
   "execution_count": 16,
   "id": "e7fb277d-e494-4ba7-965e-8a5c62e16695",
   "metadata": {},
   "outputs": [
    {
     "data": {
      "text/plain": [
       "nan"
      ]
     },
     "execution_count": 16,
     "metadata": {},
     "output_type": "execute_result"
    }
   ],
   "source": [
    "# becauuse of nan no operation or method will work as well is should be\n",
    "# nan > invalid > not working\n",
    "array_two.sum()"
   ]
  },
  {
   "cell_type": "code",
   "execution_count": 28,
   "id": "178c923b-289c-4aa2-a9f6-e8958efcecfb",
   "metadata": {},
   "outputs": [
    {
     "data": {
      "text/plain": [
       "masked_array(\n",
       "  data=[[1.0, 2.0, 3.0],\n",
       "        [4.0, --, 6.0]],\n",
       "  mask=[[False, False, False],\n",
       "        [False,  True, False]],\n",
       "  fill_value=1e+20)"
      ]
     },
     "execution_count": 28,
     "metadata": {},
     "output_type": "execute_result"
    }
   ],
   "source": [
    "# we dont need negative nums > mask them\n",
    "# \"\"  \"\"    \"\"   nan value > mask it > cover it > nothing in it\n",
    "\n",
    "\n",
    "# create a new array to store mask\n",
    "# .masked_array(your_array,mask=[]) > create a masked array\n",
    "# mask parameter will be a list > which elements you want to mask (in order)\n",
    "# send True(or 1) or False(or 0) > e.g > for : 1 > valid > 0(not be masked)\n",
    "# for 2 > valid > 0 .... and for nan > invalid(will be masked) > 1\n",
    "# input True or False manually\n",
    "masked_array = ma.masked_array(array_two,mask=[0,0,0,0,1,0])\n",
    "masked_array"
   ]
  },
  {
   "cell_type": "code",
   "execution_count": 27,
   "id": "3e925e66-f89c-4160-9f5d-959bbd08ad4f",
   "metadata": {},
   "outputs": [
    {
     "data": {
      "text/plain": [
       "16.0"
      ]
     },
     "execution_count": 27,
     "metadata": {},
     "output_type": "execute_result"
    }
   ],
   "source": [
    "# the ma module will esure that masked elements will not be involved in operatins and\n",
    "# methods\n",
    "masked_array.sum()"
   ]
  },
  {
   "cell_type": "code",
   "execution_count": 29,
   "id": "03231d4a-acb9-4d3f-a6fc-a1b528ddd599",
   "metadata": {},
   "outputs": [
    {
     "data": {
      "text/plain": [
       "masked_array(\n",
       "  data=[[1.0, 2.0, 3.0],\n",
       "        [4.0, --, 6.0]],\n",
       "  mask=[[False, False, False],\n",
       "        [False,  True, False]],\n",
       "  fill_value=1e+20)"
      ]
     },
     "execution_count": 29,
     "metadata": {},
     "output_type": "execute_result"
    }
   ],
   "source": [
    "# if array were to big we couldnt write True or False manually\n",
    "# .masked_invalid(array) > just send array > automatically will make invalid elements\n",
    "masked_array2 = ma.masked_invalid(array_two)\n",
    "masked_array2"
   ]
  },
  {
   "cell_type": "code",
   "execution_count": 30,
   "id": "23194908-2f7a-4695-8591-c5479ecdb3b8",
   "metadata": {},
   "outputs": [
    {
     "data": {
      "text/plain": [
       "16.0"
      ]
     },
     "execution_count": 30,
     "metadata": {},
     "output_type": "execute_result"
    }
   ],
   "source": [
    "masked_array2.sum()"
   ]
  },
  {
   "cell_type": "code",
   "execution_count": 31,
   "id": "32cde143-19dc-4c9a-97aa-114edba6a5cc",
   "metadata": {},
   "outputs": [
    {
     "data": {
      "text/plain": [
       "array([-3, -2, -1,  0,  1,  2,  3,  4])"
      ]
     },
     "execution_count": 31,
     "metadata": {},
     "output_type": "execute_result"
    }
   ],
   "source": [
    "array_one"
   ]
  },
  {
   "cell_type": "code",
   "execution_count": 35,
   "id": "ce131770-4165-4b32-bbed-af89fbf49aca",
   "metadata": {},
   "outputs": [
    {
     "data": {
      "text/plain": [
       "masked_array(data=[--, --, --, --, 1, 2, 3, 4],\n",
       "             mask=[ True,  True,  True,  True, False, False, False, False],\n",
       "       fill_value=999999)"
      ]
     },
     "execution_count": 35,
     "metadata": {},
     "output_type": "execute_result"
    }
   ],
   "source": [
    "# mask(True) - nums\n",
    "# .masked_where(send an if statement,your_array) > mask base on a if cluase\n",
    "# masked_where(your_array....,array_name)\n",
    "# will mask data that are in our if\n",
    "masked_array3 = ma.masked_where(array_one<=0,array_one)\n",
    "masked_array3"
   ]
  },
  {
   "cell_type": "code",
   "execution_count": 36,
   "id": "8423aa71-7c2a-4047-91c0-936215dc3f58",
   "metadata": {},
   "outputs": [
    {
     "data": {
      "text/plain": [
       "10"
      ]
     },
     "execution_count": 36,
     "metadata": {},
     "output_type": "execute_result"
    }
   ],
   "source": [
    "masked_array3.sum()"
   ]
  },
  {
   "cell_type": "code",
   "execution_count": null,
   "id": "6f05a4c4-15b4-4c44-b2c5-a9ea41f1effb",
   "metadata": {},
   "outputs": [],
   "source": [
    "# send values > and these values will be masked\n",
    "# .masked_values(your_array,value(s))\n",
    "masked_array4 = ma.masked_values(array_one,0)\n",
    "mas"
   ]
  }
 ],
 "metadata": {
  "kernelspec": {
   "display_name": "Python 3 (ipykernel)",
   "language": "python",
   "name": "python3"
  },
  "language_info": {
   "codemirror_mode": {
    "name": "ipython",
    "version": 3
   },
   "file_extension": ".py",
   "mimetype": "text/x-python",
   "name": "python",
   "nbconvert_exporter": "python",
   "pygments_lexer": "ipython3",
   "version": "3.13.7"
  }
 },
 "nbformat": 4,
 "nbformat_minor": 5
}
