{
 "cells": [
  {
   "cell_type": "markdown",
   "id": "7d32cd78-42d9-4834-b4e0-25220d59fa57",
   "metadata": {},
   "source": [
    "# Sorting and searching and counting"
   ]
  },
  {
   "cell_type": "code",
   "execution_count": 1,
   "id": "b0adc61d-9c26-4d55-afd8-710d885146aa",
   "metadata": {},
   "outputs": [],
   "source": [
    "import numpy as np"
   ]
  },
  {
   "cell_type": "code",
   "execution_count": 12,
   "id": "5359bc9e-73ff-484f-9c1e-efb6e4fa25de",
   "metadata": {},
   "outputs": [],
   "source": [
    "# sorting , searching , counting arrays\n",
    "username = ('Parsa','Ali','Parsa') # tuple\n",
    "first_name = ('Rezaifar','Ali','Ghasemi') # tuple\n",
    "array_one = np.array([3,1,2,6,7,0,8,10]) # 1d\n",
    "array_two = np.array( #2d\n",
    "    [\n",
    "        [1,4,2],\n",
    "        [3,1,5]\n",
    "    ]\n",
    ")"
   ]
  },
  {
   "cell_type": "code",
   "execution_count": 4,
   "id": "47122608-a7d2-40cc-808b-0ed26fae5d53",
   "metadata": {},
   "outputs": [
    {
     "data": {
      "text/plain": [
       "array([[1, 2, 4],\n",
       "       [1, 3, 5]])"
      ]
     },
     "execution_count": 4,
     "metadata": {},
     "output_type": "execute_result"
    }
   ],
   "source": [
    "# to sort data\n",
    "# sort > 1-np.sort() > create a new array > give u a copy of that\n",
    "# 2-ndarray.sort()(on the ndarray call sort) > change the main array\n",
    "# np.sort(array_name,axis=-1) > default > axis -1 for both way\n",
    "# axis=-1 > bring last axis\n",
    "# colum > axis is 0 and rows > axis 1\n",
    "np.sort(array_two)"
   ]
  },
  {
   "cell_type": "code",
   "execution_count": 5,
   "id": "de990999-d183-4926-b2d8-44ed3ddef6e0",
   "metadata": {},
   "outputs": [
    {
     "name": "stdout",
     "output_type": "stream",
     "text": [
      "None\n",
      "[[1 2 4]\n",
      " [1 3 5]]\n"
     ]
    }
   ],
   "source": [
    "print(array_two.sort())\n",
    "# ndarray.sort(axis=-1)\n",
    "# Nothig will be returned but the main array is changed\n",
    "print(array_two)"
   ]
  },
  {
   "cell_type": "code",
   "execution_count": 6,
   "id": "5c3bb155-7f27-4796-838c-91d211a511a8",
   "metadata": {},
   "outputs": [
    {
     "data": {
      "text/plain": [
       "array([[1, 2, 4],\n",
       "       [1, 3, 5]])"
      ]
     },
     "execution_count": 6,
     "metadata": {},
     "output_type": "execute_result"
    }
   ],
   "source": [
    "# change axis\n",
    "# sort based on asix 0\n",
    "np.sort(array_two,axis=0)"
   ]
  },
  {
   "cell_type": "code",
   "execution_count": 16,
   "id": "208c39bd-cb4f-45c2-ac70-7941ff0af99e",
   "metadata": {},
   "outputs": [
    {
     "data": {
      "text/plain": [
       "array([1, 2, 0], dtype=int64)"
      ]
     },
     "execution_count": 16,
     "metadata": {},
     "output_type": "execute_result"
    }
   ],
   "source": [
    "# .lexsort(keys,axis=-1) > sort based on some keys > default\n",
    "# axis = -1 > use last axis\n",
    "# keys > tuples\n",
    "# send keys to sort based on them\n",
    "# np.lexsort((tuple - to send keys/(first order),(second order),...))\n",
    "# sort using last key move to left most > use second key and then use first key\n",
    "# when to change > when in last key there is repetitive items > and not able to use\n",
    "# its key and use next key > can sort not repetives but not repetiives > use first key\n",
    "# username > hast two same items can use its key then use next field(first_name)\n",
    "# How it works : look at last tuple > see items in tuple\n",
    "# sort based on order of letters > A is first then P > A is 1\n",
    "# Two p > are qual > not woking with them\n",
    "# use firsy key > based on palce of letters\n",
    "# Dont use repetitve items in first tuple > cause ordered first index 1 in first tuple\n",
    "# take some keys > order base on them > from end to start\n",
    "np.lexsort((first_name,username))"
   ]
  },
  {
   "cell_type": "code",
   "execution_count": 22,
   "id": "7c021cfb-cd10-4448-9961-a892aa095ca1",
   "metadata": {},
   "outputs": [
    {
     "data": {
      "text/plain": [
       "array([5, 1, 2, 0, 3, 4, 6, 7], dtype=int64)"
      ]
     },
     "execution_count": 22,
     "metadata": {},
     "output_type": "execute_result"
    }
   ],
   "source": [
    "# .argsort(array,axis=-1,kind=None,order=None)\n",
    "# return used indices due to ordering an array\n",
    "# show if the array get ordered what its indices would be like?\n",
    "np.argsort(array_one)\n",
    "# result > indices of elements in the array\n",
    "# e.g > 0 is index 5"
   ]
  },
  {
   "cell_type": "code",
   "execution_count": 25,
   "id": "d26ea5c0-26af-423a-b327-0ae808b855a9",
   "metadata": {},
   "outputs": [
    {
     "data": {
      "text/plain": [
       "array([ 0,  1,  2,  3,  6,  7,  8, 10])"
      ]
     },
     "execution_count": 25,
     "metadata": {},
     "output_type": "execute_result"
    }
   ],
   "source": [
    "# searching > searching in arrays\n",
    "# np.searchsorted(a,v,side='left',sorter=None) > default\n",
    "# a is sorted array\n",
    "# v is value > where to put this value to not conflict with the order of array\n",
    "# sort array > np.asort(array name)\n",
    "sorted_array = np.sort(array_one)\n",
    "sorted_array"
   ]
  },
  {
   "cell_type": "code",
   "execution_count": 30,
   "id": "7f1ae21b-c8bf-4827-b6d2-e92b56fb538c",
   "metadata": {},
   "outputs": [
    {
     "data": {
      "text/plain": [
       "4"
      ]
     },
     "execution_count": 30,
     "metadata": {},
     "output_type": "execute_result"
    }
   ],
   "source": [
    "np.searchsorted(sorted_array,4)\n",
    "# place the value 4 in index 4 to not change the order of array"
   ]
  },
  {
   "cell_type": "code",
   "execution_count": 29,
   "id": "8d21fdd4-18ca-4c44-b27e-cd24c00b1703",
   "metadata": {},
   "outputs": [
    {
     "data": {
      "text/plain": [
       "array([ 0,  1,  2,  3,  6,  7,  8, 10])"
      ]
     },
     "execution_count": 29,
     "metadata": {},
     "output_type": "execute_result"
    }
   ],
   "source": [
    "sorted_array"
   ]
  },
  {
   "cell_type": "code",
   "execution_count": 33,
   "id": "7c3f1d6f-b61c-4717-96da-b5b520b21c1f",
   "metadata": {},
   "outputs": [
    {
     "data": {
      "text/plain": [
       "7"
      ]
     },
     "execution_count": 33,
     "metadata": {},
     "output_type": "execute_result"
    }
   ],
   "source": [
    "# np.argmax(a,axis=None,out=None,*,keepdims=<no value>)\n",
    "# return the index of biggest number\n",
    "# axis = None > search all axis\n",
    "np.argmax(array_one)\n",
    "# np.argmi() > what do you think this method do :)"
   ]
  },
  {
   "cell_type": "code",
   "execution_count": 34,
   "id": "4649e43c-c0f1-46e0-a53c-7bde1a5fe65d",
   "metadata": {},
   "outputs": [
    {
     "data": {
      "text/plain": [
       "5"
      ]
     },
     "execution_count": 34,
     "metadata": {},
     "output_type": "execute_result"
    }
   ],
   "source": [
    "np.argmin(array_one)"
   ]
  },
  {
   "cell_type": "code",
   "execution_count": 42,
   "id": "c052be81-508a-4f5a-bd27-03c73b5f53c6",
   "metadata": {},
   "outputs": [
    {
     "data": {
      "text/plain": [
       "array([0, 1, 2, 0, 1, 0, 2, 1], dtype=int32)"
      ]
     },
     "execution_count": 42,
     "metadata": {},
     "output_type": "execute_result"
    }
   ],
   "source": [
    "np.mod(array_one,3)\n",
    "# will divide all array elements one by one from start to end > and return residue\n",
    "# np.mod(array,number)  ~ array element % number"
   ]
  },
  {
   "cell_type": "code",
   "execution_count": 43,
   "id": "f7b484d3-2c43-4e92-8842-e04543f21ff7",
   "metadata": {},
   "outputs": [
    {
     "data": {
      "text/plain": [
       "array([3, 6, 0])"
      ]
     },
     "execution_count": 43,
     "metadata": {},
     "output_type": "execute_result"
    }
   ],
   "source": [
    "# for seaching we can use conditions\n",
    "# np.extract(condition,your array)\n",
    "# base on thar condition > will search > return elements of array\n",
    "# np.mod(a,b) > divide > a / b  \n",
    "np.extract(np.mod(array_one,3) == 0,array_one)"
   ]
  },
  {
   "cell_type": "code",
   "execution_count": 46,
   "id": "f1e5a706-e596-44f4-9876-8f3d0f26fb2d",
   "metadata": {},
   "outputs": [
    {
     "data": {
      "text/plain": [
       "(array([0, 1, 2, 3, 4, 6, 7], dtype=int64),)"
      ]
     },
     "execution_count": 46,
     "metadata": {},
     "output_type": "execute_result"
    }
   ],
   "source": [
    "# np.nonzerp(array) > return value indices which arent 0\n",
    "# 0 is not just 0 > use a True or False\n",
    "np.nonzero(array_one)\n",
    "# insead of giving array directly to np.nonzero() > justify a condition"
   ]
  },
  {
   "cell_type": "code",
   "execution_count": 48,
   "id": "e0b339b3-fdbb-4d1b-aa72-1f0f47ce6ca3",
   "metadata": {},
   "outputs": [
    {
     "data": {
      "text/plain": [
       "array([False, False, False,  True,  True, False,  True,  True])"
      ]
     },
     "execution_count": 48,
     "metadata": {},
     "output_type": "execute_result"
    }
   ],
   "source": [
    "array_one > 3\n",
    "# will compare all array elements one by one in this condition and see whether they are \n",
    "# True(in condition) or Flase(out of condition)"
   ]
  },
  {
   "cell_type": "code",
   "execution_count": 54,
   "id": "81c9340b-cd3c-4246-a8f8-c1ef9bc4bbec",
   "metadata": {},
   "outputs": [
    {
     "data": {
      "text/plain": [
       "(array([3, 4, 6, 7], dtype=int64),)"
      ]
     },
     "execution_count": 54,
     "metadata": {},
     "output_type": "execute_result"
    }
   ],
   "source": [
    "# insead of giving array directly to np.nonzero() > justify a condition\n",
    "# array containing True and Flase and give this array to np.nonzero()\n",
    "# Flase > 0 , not calculated > dont show in resut\n",
    "# True > show them in result\n",
    "# just bring those are in condition\n",
    "# return indices\n",
    "np.nonzero(array_one>3)"
   ]
  },
  {
   "cell_type": "code",
   "execution_count": 56,
   "id": "e5552ef9-70bc-4f6c-83a6-fadd6e1cd93b",
   "metadata": {},
   "outputs": [
    {
     "data": {
      "text/plain": [
       "7"
      ]
     },
     "execution_count": 56,
     "metadata": {},
     "output_type": "execute_result"
    }
   ],
   "source": [
    "# np.count_nonzero(a[,axis,keepdims])\n",
    "# count those are not zero > cp all values != 0\n",
    "np.count_nonzero(array_one)"
   ]
  }
 ],
 "metadata": {
  "kernelspec": {
   "display_name": "Python 3 (ipykernel)",
   "language": "python",
   "name": "python3"
  },
  "language_info": {
   "codemirror_mode": {
    "name": "ipython",
    "version": 3
   },
   "file_extension": ".py",
   "mimetype": "text/x-python",
   "name": "python",
   "nbconvert_exporter": "python",
   "pygments_lexer": "ipython3",
   "version": "3.13.7"
  }
 },
 "nbformat": 4,
 "nbformat_minor": 5
}
